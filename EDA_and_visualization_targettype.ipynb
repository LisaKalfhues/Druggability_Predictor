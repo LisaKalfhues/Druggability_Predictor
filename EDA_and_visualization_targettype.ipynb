{
 "cells": [
  {
   "attachments": {},
   "cell_type": "markdown",
   "metadata": {},
   "source": [
    "# Exploratory Data Analysis"
   ]
  },
  {
   "cell_type": "code",
   "execution_count": 1,
   "metadata": {},
   "outputs": [],
   "source": [
    "import pandas as pd\n",
    "import matplotlib.pyplot as plt"
   ]
  },
  {
   "cell_type": "code",
   "execution_count": 2,
   "metadata": {},
   "outputs": [
    {
     "name": "stderr",
     "output_type": "stream",
     "text": [
      "/var/folders/_h/kcrz3l9s1nx7y978p_vyp9340000gn/T/ipykernel_10292/3890047312.py:3: DtypeWarning: Columns (0,1,2,3,4,5,7,8,9) have mixed types. Specify dtype option on import or set low_memory=False.\n",
      "  df = pd.read_csv('df_merged.csv', index_col=0)\n"
     ]
    },
    {
     "data": {
      "text/plain": [
       "(82690, 11)"
      ]
     },
     "execution_count": 2,
     "metadata": {},
     "output_type": "execute_result"
    }
   ],
   "source": [
    "# import data\n",
    "\n",
    "df = pd.read_csv('Data/df_merged.csv', index_col=0)\n",
    "df.shape"
   ]
  },
  {
   "attachments": {},
   "cell_type": "markdown",
   "metadata": {},
   "source": [
    "### Drop not useful columns"
   ]
  },
  {
   "cell_type": "code",
   "execution_count": 3,
   "metadata": {},
   "outputs": [],
   "source": [
    "df_drop = df.drop(columns=['GENENAME', 'UNIPROID', 'SF-UNIID', 'SCOPCLA', 'Highest_status'])"
   ]
  },
  {
   "cell_type": "code",
   "execution_count": 4,
   "metadata": {},
   "outputs": [
    {
     "data": {
      "text/plain": [
       "(82690, 6)"
      ]
     },
     "execution_count": 4,
     "metadata": {},
     "output_type": "execute_result"
    }
   ],
   "source": [
    "df_drop.shape"
   ]
  },
  {
   "attachments": {},
   "cell_type": "markdown",
   "metadata": {},
   "source": [
    "### NaN values"
   ]
  },
  {
   "cell_type": "code",
   "execution_count": 5,
   "metadata": {},
   "outputs": [
    {
     "data": {
      "text/plain": [
       "KEGG pathway name    49203\n",
       "Targettype           40619\n",
       "BIOCLASS             42918\n",
       "ECNUMBER             64267\n",
       "PDBSTRUC             13883\n",
       "MOA                  37816\n",
       "dtype: int64"
      ]
     },
     "execution_count": 5,
     "metadata": {},
     "output_type": "execute_result"
    }
   ],
   "source": [
    "# Nan values\n",
    "df_drop.isna().sum()"
   ]
  },
  {
   "cell_type": "code",
   "execution_count": 6,
   "metadata": {},
   "outputs": [],
   "source": [
    "# drop all rows with more than 3 NaN value?\n",
    "df_filtered_nan = df_drop[df_drop.isna().sum(axis=1) <= 3]\n"
   ]
  },
  {
   "cell_type": "code",
   "execution_count": 7,
   "metadata": {},
   "outputs": [
    {
     "data": {
      "text/plain": [
       "KEGG pathway name     7960\n",
       "Targettype             185\n",
       "BIOCLASS              1909\n",
       "ECNUMBER             22442\n",
       "PDBSTRUC              8965\n",
       "MOA                    426\n",
       "dtype: int64"
      ]
     },
     "execution_count": 7,
     "metadata": {},
     "output_type": "execute_result"
    }
   ],
   "source": [
    "df_filtered_nan.isna().sum()"
   ]
  },
  {
   "cell_type": "code",
   "execution_count": 8,
   "metadata": {},
   "outputs": [
    {
     "data": {
      "text/plain": [
       "(40841, 6)"
      ]
     },
     "execution_count": 8,
     "metadata": {},
     "output_type": "execute_result"
    }
   ],
   "source": [
    "df_filtered_nan.shape"
   ]
  },
  {
   "cell_type": "code",
   "execution_count": 9,
   "metadata": {},
   "outputs": [
    {
     "data": {
      "text/html": [
       "<div>\n",
       "<style scoped>\n",
       "    .dataframe tbody tr th:only-of-type {\n",
       "        vertical-align: middle;\n",
       "    }\n",
       "\n",
       "    .dataframe tbody tr th {\n",
       "        vertical-align: top;\n",
       "    }\n",
       "\n",
       "    .dataframe thead th {\n",
       "        text-align: right;\n",
       "    }\n",
       "</style>\n",
       "<table border=\"1\" class=\"dataframe\">\n",
       "  <thead>\n",
       "    <tr style=\"text-align: right;\">\n",
       "      <th></th>\n",
       "      <th>KEGG pathway name</th>\n",
       "      <th>Targettype</th>\n",
       "      <th>BIOCLASS</th>\n",
       "      <th>ECNUMBER</th>\n",
       "      <th>PDBSTRUC</th>\n",
       "      <th>MOA</th>\n",
       "    </tr>\n",
       "    <tr>\n",
       "      <th>TTDID</th>\n",
       "      <th></th>\n",
       "      <th></th>\n",
       "      <th></th>\n",
       "      <th></th>\n",
       "      <th></th>\n",
       "      <th></th>\n",
       "    </tr>\n",
       "  </thead>\n",
       "  <tbody>\n",
       "    <tr>\n",
       "      <th>T00039</th>\n",
       "      <td>Hippo signaling pathway</td>\n",
       "      <td>Clinical Trial target</td>\n",
       "      <td>mRNA target</td>\n",
       "      <td>NaN</td>\n",
       "      <td>NaN</td>\n",
       "      <td>.</td>\n",
       "    </tr>\n",
       "    <tr>\n",
       "      <th>T01777</th>\n",
       "      <td>cGMP-PKG signaling pathway, Neuroactive ligand...</td>\n",
       "      <td>Successful target</td>\n",
       "      <td>GPCR rhodopsin</td>\n",
       "      <td>NaN</td>\n",
       "      <td>NaN</td>\n",
       "      <td>Modulator</td>\n",
       "    </tr>\n",
       "    <tr>\n",
       "      <th>T01777</th>\n",
       "      <td>cGMP-PKG signaling pathway, Neuroactive ligand...</td>\n",
       "      <td>Successful target</td>\n",
       "      <td>GPCR rhodopsin</td>\n",
       "      <td>NaN</td>\n",
       "      <td>NaN</td>\n",
       "      <td>Modulator</td>\n",
       "    </tr>\n",
       "    <tr>\n",
       "      <th>T01777</th>\n",
       "      <td>cGMP-PKG signaling pathway, Neuroactive ligand...</td>\n",
       "      <td>Successful target</td>\n",
       "      <td>GPCR rhodopsin</td>\n",
       "      <td>NaN</td>\n",
       "      <td>NaN</td>\n",
       "      <td>Agonist</td>\n",
       "    </tr>\n",
       "    <tr>\n",
       "      <th>T01777</th>\n",
       "      <td>cGMP-PKG signaling pathway, Neuroactive ligand...</td>\n",
       "      <td>Successful target</td>\n",
       "      <td>GPCR rhodopsin</td>\n",
       "      <td>NaN</td>\n",
       "      <td>NaN</td>\n",
       "      <td>Agonist</td>\n",
       "    </tr>\n",
       "  </tbody>\n",
       "</table>\n",
       "</div>"
      ],
      "text/plain": [
       "                                        KEGG pathway name  \\\n",
       "TTDID                                                       \n",
       "T00039                            Hippo signaling pathway   \n",
       "T01777  cGMP-PKG signaling pathway, Neuroactive ligand...   \n",
       "T01777  cGMP-PKG signaling pathway, Neuroactive ligand...   \n",
       "T01777  cGMP-PKG signaling pathway, Neuroactive ligand...   \n",
       "T01777  cGMP-PKG signaling pathway, Neuroactive ligand...   \n",
       "\n",
       "                   Targettype        BIOCLASS ECNUMBER PDBSTRUC        MOA  \n",
       "TTDID                                                                       \n",
       "T00039  Clinical Trial target     mRNA target      NaN      NaN          .  \n",
       "T01777      Successful target  GPCR rhodopsin      NaN      NaN  Modulator  \n",
       "T01777      Successful target  GPCR rhodopsin      NaN      NaN  Modulator  \n",
       "T01777      Successful target  GPCR rhodopsin      NaN      NaN    Agonist  \n",
       "T01777      Successful target  GPCR rhodopsin      NaN      NaN    Agonist  "
      ]
     },
     "execution_count": 9,
     "metadata": {},
     "output_type": "execute_result"
    }
   ],
   "source": [
    "df_filtered_nan.head()"
   ]
  },
  {
   "cell_type": "markdown",
   "metadata": {},
   "source": [
    "### Replace EC numbers with enzyme classes respectively"
   ]
  },
  {
   "cell_type": "markdown",
   "metadata": {},
   "source": [
    "- Category:Oxidoreductases (EC 1)\n",
    "- Category:Transferases (EC 2)\n",
    "- Category:Hydrolases (EC 3)\n",
    "- Category:Lyases (EC 4)\n",
    "- Category:Isomerases (EC 5)\n",
    "- Category:Ligases (EC 6)"
   ]
  },
  {
   "cell_type": "code",
   "execution_count": 10,
   "metadata": {},
   "outputs": [
    {
     "data": {
      "text/plain": [
       "EC 2.7.10.1     1588\n",
       "EC 2.7.11.1     1048\n",
       "EC 4.2.1.1       954\n",
       "EC 3.5.1.98      776\n",
       "EC 2.7.10.2      717\n",
       "                ... \n",
       "EC 3.1.3.-         1\n",
       "EC 4.1.99.12       1\n",
       "EC 2.7.1.138       1\n",
       "EC 1.1.1.95        1\n",
       "EC 3.5.4.38        1\n",
       "Name: ECNUMBER, Length: 587, dtype: int64"
      ]
     },
     "execution_count": 10,
     "metadata": {},
     "output_type": "execute_result"
    }
   ],
   "source": [
    "import re\n",
    "\n",
    "df_ecnumb = df_filtered_nan\n",
    "df_ecnumb['ECNUMBER'].value_counts()"
   ]
  },
  {
   "cell_type": "code",
   "execution_count": 11,
   "metadata": {},
   "outputs": [
    {
     "name": "stderr",
     "output_type": "stream",
     "text": [
      "/var/folders/_h/kcrz3l9s1nx7y978p_vyp9340000gn/T/ipykernel_10292/3348217260.py:1: FutureWarning: The default value of regex will change from True to False in a future version.\n",
      "  df_ecnumb['ECNUMBER'] = df_ecnumb['ECNUMBER'].str.replace(r'EC 1.*', 'Oxidoreductases')\n",
      "/var/folders/_h/kcrz3l9s1nx7y978p_vyp9340000gn/T/ipykernel_10292/3348217260.py:1: SettingWithCopyWarning: \n",
      "A value is trying to be set on a copy of a slice from a DataFrame.\n",
      "Try using .loc[row_indexer,col_indexer] = value instead\n",
      "\n",
      "See the caveats in the documentation: https://pandas.pydata.org/pandas-docs/stable/user_guide/indexing.html#returning-a-view-versus-a-copy\n",
      "  df_ecnumb['ECNUMBER'] = df_ecnumb['ECNUMBER'].str.replace(r'EC 1.*', 'Oxidoreductases')\n",
      "/var/folders/_h/kcrz3l9s1nx7y978p_vyp9340000gn/T/ipykernel_10292/3348217260.py:2: FutureWarning: The default value of regex will change from True to False in a future version.\n",
      "  df_ecnumb['ECNUMBER'] = df_ecnumb['ECNUMBER'].str.replace(r'EC 2.*', 'Transferases')\n",
      "/var/folders/_h/kcrz3l9s1nx7y978p_vyp9340000gn/T/ipykernel_10292/3348217260.py:2: SettingWithCopyWarning: \n",
      "A value is trying to be set on a copy of a slice from a DataFrame.\n",
      "Try using .loc[row_indexer,col_indexer] = value instead\n",
      "\n",
      "See the caveats in the documentation: https://pandas.pydata.org/pandas-docs/stable/user_guide/indexing.html#returning-a-view-versus-a-copy\n",
      "  df_ecnumb['ECNUMBER'] = df_ecnumb['ECNUMBER'].str.replace(r'EC 2.*', 'Transferases')\n",
      "/var/folders/_h/kcrz3l9s1nx7y978p_vyp9340000gn/T/ipykernel_10292/3348217260.py:3: FutureWarning: The default value of regex will change from True to False in a future version.\n",
      "  df_ecnumb['ECNUMBER'] = df_ecnumb['ECNUMBER'].str.replace(r'EC 3.*', 'Hydrolases')\n",
      "/var/folders/_h/kcrz3l9s1nx7y978p_vyp9340000gn/T/ipykernel_10292/3348217260.py:3: SettingWithCopyWarning: \n",
      "A value is trying to be set on a copy of a slice from a DataFrame.\n",
      "Try using .loc[row_indexer,col_indexer] = value instead\n",
      "\n",
      "See the caveats in the documentation: https://pandas.pydata.org/pandas-docs/stable/user_guide/indexing.html#returning-a-view-versus-a-copy\n",
      "  df_ecnumb['ECNUMBER'] = df_ecnumb['ECNUMBER'].str.replace(r'EC 3.*', 'Hydrolases')\n",
      "/var/folders/_h/kcrz3l9s1nx7y978p_vyp9340000gn/T/ipykernel_10292/3348217260.py:4: FutureWarning: The default value of regex will change from True to False in a future version.\n",
      "  df_ecnumb['ECNUMBER'] = df_ecnumb['ECNUMBER'].str.replace(r'EC 4.*', 'Lyases')\n",
      "/var/folders/_h/kcrz3l9s1nx7y978p_vyp9340000gn/T/ipykernel_10292/3348217260.py:4: SettingWithCopyWarning: \n",
      "A value is trying to be set on a copy of a slice from a DataFrame.\n",
      "Try using .loc[row_indexer,col_indexer] = value instead\n",
      "\n",
      "See the caveats in the documentation: https://pandas.pydata.org/pandas-docs/stable/user_guide/indexing.html#returning-a-view-versus-a-copy\n",
      "  df_ecnumb['ECNUMBER'] = df_ecnumb['ECNUMBER'].str.replace(r'EC 4.*', 'Lyases')\n",
      "/var/folders/_h/kcrz3l9s1nx7y978p_vyp9340000gn/T/ipykernel_10292/3348217260.py:5: FutureWarning: The default value of regex will change from True to False in a future version.\n",
      "  df_ecnumb['ECNUMBER'] = df_ecnumb['ECNUMBER'].str.replace(r'EC 5.*', 'Isomerases')\n",
      "/var/folders/_h/kcrz3l9s1nx7y978p_vyp9340000gn/T/ipykernel_10292/3348217260.py:5: SettingWithCopyWarning: \n",
      "A value is trying to be set on a copy of a slice from a DataFrame.\n",
      "Try using .loc[row_indexer,col_indexer] = value instead\n",
      "\n",
      "See the caveats in the documentation: https://pandas.pydata.org/pandas-docs/stable/user_guide/indexing.html#returning-a-view-versus-a-copy\n",
      "  df_ecnumb['ECNUMBER'] = df_ecnumb['ECNUMBER'].str.replace(r'EC 5.*', 'Isomerases')\n",
      "/var/folders/_h/kcrz3l9s1nx7y978p_vyp9340000gn/T/ipykernel_10292/3348217260.py:6: FutureWarning: The default value of regex will change from True to False in a future version.\n",
      "  df_ecnumb['ECNUMBER'] = df_ecnumb['ECNUMBER'].str.replace(r'EC 6.*', 'Ligases')\n",
      "/var/folders/_h/kcrz3l9s1nx7y978p_vyp9340000gn/T/ipykernel_10292/3348217260.py:6: SettingWithCopyWarning: \n",
      "A value is trying to be set on a copy of a slice from a DataFrame.\n",
      "Try using .loc[row_indexer,col_indexer] = value instead\n",
      "\n",
      "See the caveats in the documentation: https://pandas.pydata.org/pandas-docs/stable/user_guide/indexing.html#returning-a-view-versus-a-copy\n",
      "  df_ecnumb['ECNUMBER'] = df_ecnumb['ECNUMBER'].str.replace(r'EC 6.*', 'Ligases')\n",
      "/var/folders/_h/kcrz3l9s1nx7y978p_vyp9340000gn/T/ipykernel_10292/3348217260.py:7: FutureWarning: The default value of regex will change from True to False in a future version.\n",
      "  df_ecnumb['ECNUMBER'] = df_ecnumb['ECNUMBER'].str.replace(r'EC 7.*', 'Translocases')\n",
      "/var/folders/_h/kcrz3l9s1nx7y978p_vyp9340000gn/T/ipykernel_10292/3348217260.py:7: SettingWithCopyWarning: \n",
      "A value is trying to be set on a copy of a slice from a DataFrame.\n",
      "Try using .loc[row_indexer,col_indexer] = value instead\n",
      "\n",
      "See the caveats in the documentation: https://pandas.pydata.org/pandas-docs/stable/user_guide/indexing.html#returning-a-view-versus-a-copy\n",
      "  df_ecnumb['ECNUMBER'] = df_ecnumb['ECNUMBER'].str.replace(r'EC 7.*', 'Translocases')\n"
     ]
    }
   ],
   "source": [
    "df_ecnumb['ECNUMBER'] = df_ecnumb['ECNUMBER'].str.replace(r'EC 1.*', 'Oxidoreductases')\n",
    "df_ecnumb['ECNUMBER'] = df_ecnumb['ECNUMBER'].str.replace(r'EC 2.*', 'Transferases')\n",
    "df_ecnumb['ECNUMBER'] = df_ecnumb['ECNUMBER'].str.replace(r'EC 3.*', 'Hydrolases')\n",
    "df_ecnumb['ECNUMBER'] = df_ecnumb['ECNUMBER'].str.replace(r'EC 4.*', 'Lyases')\n",
    "df_ecnumb['ECNUMBER'] = df_ecnumb['ECNUMBER'].str.replace(r'EC 5.*', 'Isomerases')\n",
    "df_ecnumb['ECNUMBER'] = df_ecnumb['ECNUMBER'].str.replace(r'EC 6.*', 'Ligases')\n",
    "df_ecnumb['ECNUMBER'] = df_ecnumb['ECNUMBER'].str.replace(r'EC 7.*', 'Translocases')\n"
   ]
  },
  {
   "cell_type": "code",
   "execution_count": 12,
   "metadata": {},
   "outputs": [
    {
     "data": {
      "text/plain": [
       "Transferases       6915\n",
       "Hydrolases         5692\n",
       "Oxidoreductases    4173\n",
       "Lyases             1134\n",
       "Isomerases          357\n",
       "Ligases              65\n",
       "Translocases         63\n",
       "Name: ECNUMBER, dtype: int64"
      ]
     },
     "execution_count": 12,
     "metadata": {},
     "output_type": "execute_result"
    }
   ],
   "source": [
    "df_ecnumb['ECNUMBER'].value_counts()"
   ]
  },
  {
   "attachments": {},
   "cell_type": "markdown",
   "metadata": {},
   "source": [
    "### Rename columns"
   ]
  },
  {
   "cell_type": "code",
   "execution_count": 13,
   "metadata": {},
   "outputs": [
    {
     "data": {
      "text/plain": [
       "Index(['KEGG pathway name', 'Targettype', 'BIOCLASS', 'ECNUMBER', 'PDBSTRUC',\n",
       "       'MOA'],\n",
       "      dtype='object')"
      ]
     },
     "execution_count": 13,
     "metadata": {},
     "output_type": "execute_result"
    }
   ],
   "source": [
    "df_rencol = df_ecnumb\n",
    "# show column names\n",
    "df_rencol.columns"
   ]
  },
  {
   "cell_type": "code",
   "execution_count": 14,
   "metadata": {},
   "outputs": [],
   "source": [
    "df_rencol = df_rencol.rename(columns={'Targettype': 'Target_type', 'KEGG pathway name': 'KEGG_pathway', 'BIOCLASS':'Biochemical_class', 'ECNUMBER':'Enzyme_class', 'PDBSTRUC':'PDB_structure', 'MOA':'Mode_of_action'})"
   ]
  },
  {
   "cell_type": "code",
   "execution_count": 15,
   "metadata": {},
   "outputs": [
    {
     "name": "stdout",
     "output_type": "stream",
     "text": [
      "<class 'pandas.core.frame.DataFrame'>\n",
      "Index: 40841 entries, T00039 to T99990\n",
      "Data columns (total 6 columns):\n",
      " #   Column             Non-Null Count  Dtype \n",
      "---  ------             --------------  ----- \n",
      " 0   KEGG_pathway       32881 non-null  object\n",
      " 1   Target_type        40656 non-null  object\n",
      " 2   Biochemical_class  38932 non-null  object\n",
      " 3   Enzyme_class       18399 non-null  object\n",
      " 4   PDB_structure      31876 non-null  object\n",
      " 5   Mode_of_action     40415 non-null  object\n",
      "dtypes: object(6)\n",
      "memory usage: 2.2+ MB\n"
     ]
    }
   ],
   "source": [
    "df_rencol.info()"
   ]
  },
  {
   "cell_type": "markdown",
   "metadata": {},
   "source": [
    "### Delete duplicates"
   ]
  },
  {
   "cell_type": "code",
   "execution_count": 16,
   "metadata": {},
   "outputs": [
    {
     "data": {
      "text/plain": [
       "36340"
      ]
     },
     "execution_count": 16,
     "metadata": {},
     "output_type": "execute_result"
    }
   ],
   "source": [
    "# show duplicates\n",
    "df_dups = df_rencol.duplicated().sum()\n",
    "df_dups"
   ]
  },
  {
   "cell_type": "code",
   "execution_count": 17,
   "metadata": {},
   "outputs": [
    {
     "data": {
      "text/plain": [
       "(4501, 6)"
      ]
     },
     "execution_count": 17,
     "metadata": {},
     "output_type": "execute_result"
    }
   ],
   "source": [
    "# remove duplicates\n",
    "df_drop_dups = df_rencol.drop_duplicates()\n",
    "df_drop_dups.shape"
   ]
  },
  {
   "cell_type": "code",
   "execution_count": 18,
   "metadata": {},
   "outputs": [
    {
     "data": {
      "text/plain": [
       "0"
      ]
     },
     "execution_count": 18,
     "metadata": {},
     "output_type": "execute_result"
    }
   ],
   "source": [
    "df_drop_dups.duplicated().sum()"
   ]
  },
  {
   "cell_type": "code",
   "execution_count": 19,
   "metadata": {},
   "outputs": [
    {
     "name": "stdout",
     "output_type": "stream",
     "text": [
      "<class 'pandas.core.frame.DataFrame'>\n",
      "Index: 4501 entries, T00039 to T99990\n",
      "Data columns (total 6 columns):\n",
      " #   Column             Non-Null Count  Dtype \n",
      "---  ------             --------------  ----- \n",
      " 0   KEGG_pathway       2854 non-null   object\n",
      " 1   Target_type        4472 non-null   object\n",
      " 2   Biochemical_class  3958 non-null   object\n",
      " 3   Enzyme_class       1712 non-null   object\n",
      " 4   PDB_structure      3505 non-null   object\n",
      " 5   Mode_of_action     4122 non-null   object\n",
      "dtypes: object(6)\n",
      "memory usage: 246.1+ KB\n"
     ]
    }
   ],
   "source": [
    "df_drop_dups.info()"
   ]
  },
  {
   "cell_type": "code",
   "execution_count": 20,
   "metadata": {},
   "outputs": [
    {
     "data": {
      "text/plain": [
       "KEGG_pathway         1647\n",
       "Target_type            29\n",
       "Biochemical_class     543\n",
       "Enzyme_class         2789\n",
       "PDB_structure         996\n",
       "Mode_of_action        379\n",
       "dtype: int64"
      ]
     },
     "execution_count": 20,
     "metadata": {},
     "output_type": "execute_result"
    }
   ],
   "source": [
    "df_drop_dups.isna().sum()"
   ]
  },
  {
   "attachments": {},
   "cell_type": "markdown",
   "metadata": {},
   "source": [
    "# New column for classification model"
   ]
  },
  {
   "cell_type": "code",
   "execution_count": 21,
   "metadata": {},
   "outputs": [
    {
     "name": "stderr",
     "output_type": "stream",
     "text": [
      "/var/folders/_h/kcrz3l9s1nx7y978p_vyp9340000gn/T/ipykernel_10292/314389812.py:3: SettingWithCopyWarning: \n",
      "A value is trying to be set on a copy of a slice from a DataFrame.\n",
      "Try using .loc[row_indexer,col_indexer] = value instead\n",
      "\n",
      "See the caveats in the documentation: https://pandas.pydata.org/pandas-docs/stable/user_guide/indexing.html#returning-a-view-versus-a-copy\n",
      "  df_new['Outcome'] = df_new['Target_type'].apply(lambda x: 1 if x == 'Successful target' else 0 if x == 'Discontinued target' else 0.5)\n"
     ]
    }
   ],
   "source": [
    "# Add new column with 1= successful target, 0= discontinued target, 0.5 = target under investigation\n",
    "df_new = df_drop_dups\n",
    "df_new['Outcome'] = df_new['Target_type'].apply(lambda x: 1 if x == 'Successful target' else 0 if x == 'Discontinued target' else 0.5)\n"
   ]
  },
  {
   "cell_type": "code",
   "execution_count": 22,
   "metadata": {},
   "outputs": [
    {
     "name": "stdout",
     "output_type": "stream",
     "text": [
      "<class 'pandas.core.frame.DataFrame'>\n",
      "Index: 4501 entries, T00039 to T99990\n",
      "Data columns (total 7 columns):\n",
      " #   Column             Non-Null Count  Dtype  \n",
      "---  ------             --------------  -----  \n",
      " 0   KEGG_pathway       2854 non-null   object \n",
      " 1   Target_type        4472 non-null   object \n",
      " 2   Biochemical_class  3958 non-null   object \n",
      " 3   Enzyme_class       1712 non-null   object \n",
      " 4   PDB_structure      3505 non-null   object \n",
      " 5   Mode_of_action     4122 non-null   object \n",
      " 6   Outcome            4501 non-null   float64\n",
      "dtypes: float64(1), object(6)\n",
      "memory usage: 281.3+ KB\n"
     ]
    }
   ],
   "source": [
    "df_new.info()"
   ]
  },
  {
   "attachments": {},
   "cell_type": "markdown",
   "metadata": {},
   "source": [
    "# Safe dataframe"
   ]
  },
  {
   "cell_type": "code",
   "execution_count": 23,
   "metadata": {},
   "outputs": [],
   "source": [
    "# save df\n",
    "df_new.to_csv('Data/df_proteintargets_targettype.csv', sep=',', index=False)"
   ]
  },
  {
   "cell_type": "code",
   "execution_count": 24,
   "metadata": {},
   "outputs": [],
   "source": [
    "# save df only with \"failed\" and \"approved\" proteins\n",
    "\n",
    "df_only = df_new[df_new['Outcome'] != 0.5]\n",
    "df_only = df_only.drop(columns=[\"Target_type\"])\n",
    "\n",
    "df_only.to_csv('Data/df_proteintargets_targettype_appr_fail.csv', sep=',', index=False)"
   ]
  },
  {
   "cell_type": "code",
   "execution_count": 25,
   "metadata": {},
   "outputs": [
    {
     "data": {
      "text/plain": [
       "1.0    1688\n",
       "0.0      85\n",
       "Name: Outcome, dtype: int64"
      ]
     },
     "execution_count": 25,
     "metadata": {},
     "output_type": "execute_result"
    }
   ],
   "source": [
    "df_only['Outcome'].value_counts()"
   ]
  },
  {
   "attachments": {},
   "cell_type": "markdown",
   "metadata": {},
   "source": [
    "# Visualization"
   ]
  },
  {
   "cell_type": "code",
   "execution_count": 26,
   "metadata": {},
   "outputs": [
    {
     "name": "stdout",
     "output_type": "stream",
     "text": [
      "<class 'pandas.core.frame.DataFrame'>\n",
      "Index: 4501 entries, T00039 to T99990\n",
      "Data columns (total 7 columns):\n",
      " #   Column             Non-Null Count  Dtype  \n",
      "---  ------             --------------  -----  \n",
      " 0   KEGG_pathway       2854 non-null   object \n",
      " 1   Target_type        4472 non-null   object \n",
      " 2   Biochemical_class  3958 non-null   object \n",
      " 3   Enzyme_class       1712 non-null   object \n",
      " 4   PDB_structure      3505 non-null   object \n",
      " 5   Mode_of_action     4122 non-null   object \n",
      " 6   Outcome            4501 non-null   float64\n",
      "dtypes: float64(1), object(6)\n",
      "memory usage: 281.3+ KB\n"
     ]
    }
   ],
   "source": [
    "import seaborn as sns\n",
    "\n",
    "df_proteintargets = df_drop_dups\n",
    "df_proteintargets.info()"
   ]
  },
  {
   "cell_type": "code",
   "execution_count": 27,
   "metadata": {},
   "outputs": [
    {
     "data": {
      "text/plain": [
       "Successful target        1688\n",
       "Clinical Trial target    1566\n",
       "Research target           922\n",
       "Patented target           176\n",
       "Discontinued target        85\n",
       "Preclinical target         35\n",
       "Name: Target_type, dtype: int64"
      ]
     },
     "execution_count": 27,
     "metadata": {},
     "output_type": "execute_result"
    }
   ],
   "source": [
    "df_proteintargets['Target_type'].value_counts()"
   ]
  },
  {
   "cell_type": "code",
   "execution_count": 28,
   "metadata": {},
   "outputs": [
    {
     "data": {
      "text/plain": [
       "Text(0.5, 1.0, 'Protein targets in different stages')"
      ]
     },
     "execution_count": 28,
     "metadata": {},
     "output_type": "execute_result"
    },
    {
     "data": {
      "image/png": "[encoded data removed]",
      "text/plain": [
       "<Figure size 640x480 with 1 Axes>"
      ]
     },
     "metadata": {},
     "output_type": "display_data"
    }
   ],
   "source": [
    "# get an overview of dataset:\n",
    "    # imbalaced data\n",
    "#order = ['Research target','Preclinical target','Patented targets', 'Clinical Trial targets', 'Successful target', 'Discontinued target']\n",
    "sns.countplot(data=df_proteintargets, x='Target_type', palette='flare')\n",
    "plt.xticks(rotation=45)\n",
    "plt.title('Protein targets in different stages')\n"
   ]
  },
  {
   "cell_type": "code",
   "execution_count": 29,
   "metadata": {},
   "outputs": [],
   "source": [
    "# Statement: Which Bioclass and MOA belong the most failed tragets to?\n",
    "\n",
    "# select only the failed targets\n",
    "df_failed = df_proteintargets[df_proteintargets['Target_type'] == 'Discontinued target']\n",
    "\n",
    "# group by Bioclass and MOA and count the number of failed targets\n",
    "grouped1 = df_failed.groupby(['Biochemical_class']).size().reset_index(name='count')\n",
    "grouped2 = df_failed.groupby(['Mode_of_action']).size().reset_index(name='count')\n",
    "\n",
    "# sort the groups in descending order of failed targets\n",
    "sorted_groups1 = grouped1.sort_values('count', ascending=False)\n",
    "sorted_groups2 = grouped2.sort_values('count', ascending=False)\n",
    "\n",
    "\n",
    "# select only the top 5 Bioclasses and MOAs\n",
    "top_groups1 = sorted_groups1.head(3)\n",
    "top_groups2 = sorted_groups2.head(3)"
   ]
  },
  {
   "cell_type": "code",
   "execution_count": 30,
   "metadata": {},
   "outputs": [
    {
     "data": {
      "text/html": [
       "<div>\n",
       "<style scoped>\n",
       "    .dataframe tbody tr th:only-of-type {\n",
       "        vertical-align: middle;\n",
       "    }\n",
       "\n",
       "    .dataframe tbody tr th {\n",
       "        vertical-align: top;\n",
       "    }\n",
       "\n",
       "    .dataframe thead th {\n",
       "        text-align: right;\n",
       "    }\n",
       "</style>\n",
       "<table border=\"1\" class=\"dataframe\">\n",
       "  <thead>\n",
       "    <tr style=\"text-align: right;\">\n",
       "      <th></th>\n",
       "      <th>Biochemical_class</th>\n",
       "      <th>count</th>\n",
       "    </tr>\n",
       "  </thead>\n",
       "  <tbody>\n",
       "    <tr>\n",
       "      <th>0</th>\n",
       "      <td>Acyltransferase</td>\n",
       "      <td>1</td>\n",
       "    </tr>\n",
       "    <tr>\n",
       "      <th>1</th>\n",
       "      <td>Alkyl aryl transferase</td>\n",
       "      <td>2</td>\n",
       "    </tr>\n",
       "    <tr>\n",
       "      <th>2</th>\n",
       "      <td>Basic leucine zipper bZIP</td>\n",
       "      <td>1</td>\n",
       "    </tr>\n",
       "    <tr>\n",
       "      <th>3</th>\n",
       "      <td>CH/CH(2) oxidoreductase</td>\n",
       "      <td>1</td>\n",
       "    </tr>\n",
       "    <tr>\n",
       "      <th>4</th>\n",
       "      <td>Carbon-carbon lyase</td>\n",
       "      <td>1</td>\n",
       "    </tr>\n",
       "    <tr>\n",
       "      <th>5</th>\n",
       "      <td>Carbon-nitrogen ligase</td>\n",
       "      <td>2</td>\n",
       "    </tr>\n",
       "    <tr>\n",
       "      <th>6</th>\n",
       "      <td>Endoribonucleases</td>\n",
       "      <td>1</td>\n",
       "    </tr>\n",
       "    <tr>\n",
       "      <th>7</th>\n",
       "      <td>GPCR glutamate</td>\n",
       "      <td>5</td>\n",
       "    </tr>\n",
       "    <tr>\n",
       "      <th>8</th>\n",
       "      <td>GPCR rhodopsin</td>\n",
       "      <td>15</td>\n",
       "    </tr>\n",
       "    <tr>\n",
       "      <th>9</th>\n",
       "      <td>Glycosylase</td>\n",
       "      <td>1</td>\n",
       "    </tr>\n",
       "    <tr>\n",
       "      <th>10</th>\n",
       "      <td>Growth factor</td>\n",
       "      <td>4</td>\n",
       "    </tr>\n",
       "    <tr>\n",
       "      <th>11</th>\n",
       "      <td>Integrin</td>\n",
       "      <td>1</td>\n",
       "    </tr>\n",
       "    <tr>\n",
       "      <th>12</th>\n",
       "      <td>Kinase</td>\n",
       "      <td>2</td>\n",
       "    </tr>\n",
       "    <tr>\n",
       "      <th>13</th>\n",
       "      <td>NADH/NADPH oxidoreductase</td>\n",
       "      <td>2</td>\n",
       "    </tr>\n",
       "    <tr>\n",
       "      <th>14</th>\n",
       "      <td>Neurotransmitter receptor</td>\n",
       "      <td>2</td>\n",
       "    </tr>\n",
       "    <tr>\n",
       "      <th>15</th>\n",
       "      <td>Peptidase</td>\n",
       "      <td>1</td>\n",
       "    </tr>\n",
       "    <tr>\n",
       "      <th>16</th>\n",
       "      <td>Phosphoric diester hydrolase</td>\n",
       "      <td>4</td>\n",
       "    </tr>\n",
       "    <tr>\n",
       "      <th>17</th>\n",
       "      <td>Ryanodine-inositol 1,4,5-triphosphate receptor...</td>\n",
       "      <td>3</td>\n",
       "    </tr>\n",
       "    <tr>\n",
       "      <th>18</th>\n",
       "      <td>Shiga-like toxin beta</td>\n",
       "      <td>1</td>\n",
       "    </tr>\n",
       "    <tr>\n",
       "      <th>19</th>\n",
       "      <td>Small GTPase</td>\n",
       "      <td>1</td>\n",
       "    </tr>\n",
       "    <tr>\n",
       "      <th>20</th>\n",
       "      <td>Somatotropin/prolactin</td>\n",
       "      <td>1</td>\n",
       "    </tr>\n",
       "    <tr>\n",
       "      <th>21</th>\n",
       "      <td>mRNA target</td>\n",
       "      <td>15</td>\n",
       "    </tr>\n",
       "  </tbody>\n",
       "</table>\n",
       "</div>"
      ],
      "text/plain": [
       "                                    Biochemical_class  count\n",
       "0                                     Acyltransferase      1\n",
       "1                              Alkyl aryl transferase      2\n",
       "2                           Basic leucine zipper bZIP      1\n",
       "3                             CH/CH(2) oxidoreductase      1\n",
       "4                                 Carbon-carbon lyase      1\n",
       "5                              Carbon-nitrogen ligase      2\n",
       "6                                   Endoribonucleases      1\n",
       "7                                      GPCR glutamate      5\n",
       "8                                      GPCR rhodopsin     15\n",
       "9                                         Glycosylase      1\n",
       "10                                      Growth factor      4\n",
       "11                                           Integrin      1\n",
       "12                                             Kinase      2\n",
       "13                          NADH/NADPH oxidoreductase      2\n",
       "14                          Neurotransmitter receptor      2\n",
       "15                                          Peptidase      1\n",
       "16                       Phosphoric diester hydrolase      4\n",
       "17  Ryanodine-inositol 1,4,5-triphosphate receptor...      3\n",
       "18                              Shiga-like toxin beta      1\n",
       "19                                       Small GTPase      1\n",
       "20                             Somatotropin/prolactin      1\n",
       "21                                        mRNA target     15"
      ]
     },
     "execution_count": 30,
     "metadata": {},
     "output_type": "execute_result"
    }
   ],
   "source": [
    "grouped1"
   ]
  },
  {
   "cell_type": "code",
   "execution_count": 38,
   "metadata": {},
   "outputs": [
    {
     "data": {
      "image/png": "[encoded data removed]",
      "text/plain": [
       "<Figure size 640x480 with 1 Axes>"
      ]
     },
     "metadata": {},
     "output_type": "display_data"
    }
   ],
   "source": [
    "sns.set_style('whitegrid')\n",
    "sns.barplot(data=top_groups1, x='Biochemical_class', y='count', palette='Set2')\n",
    "plt.title('Top 3 bioclasses with the most failed targets')\n",
    "plt.xlabel('Biochemical class', fontsize=12)\n",
    "plt.ylabel('Count of failed targets', fontsize= 12)\n",
    "plt.show()"
   ]
  },
  {
   "cell_type": "code",
   "execution_count": 32,
   "metadata": {},
   "outputs": [
    {
     "data": {
      "image/png": "[encoded data removed]",
      "text/plain": [
       "<Figure size 640x480 with 1 Axes>"
      ]
     },
     "metadata": {},
     "output_type": "display_data"
    }
   ],
   "source": [
    "sns.set_style('whitegrid')\n",
    "sns.barplot(data=top_groups2, x='Mode_of_action', y='count', palette='Set2')\n",
    "plt.title('Top 3 MOAs with the most failed targets')\n",
    "plt.xlabel('MOA', fontsize=12)\n",
    "plt.ylabel('Count of failed targets', fontsize= 12)\n",
    "plt.show()"
   ]
  },
  {
   "cell_type": "code",
   "execution_count": 33,
   "metadata": {},
   "outputs": [],
   "source": [
    "# Statement: Which Bioclass and MOA belong the most approved tragets to?\n",
    "\n",
    "# select only the approved targets\n",
    "df_approved = df_proteintargets[df_proteintargets['Target_type'] == 'Successful target']\n",
    "\n",
    "# group by Bioclass and MOA and count the number of approved targets\n",
    "grouped_approved1 = df_approved.groupby(['Biochemical_class']).size().reset_index(name='count')\n",
    "grouped_approved2 = df_approved.groupby(['Mode_of_action']).size().reset_index(name='count')\n",
    "\n",
    "# sort the groups in descending order of approved targets\n",
    "sorted_groups_approved1 = grouped_approved1.sort_values('count', ascending=False)\n",
    "sorted_groups_approved2 = grouped_approved2.sort_values('count', ascending=False)\n",
    "\n",
    "# select only the top 3 Bioclasses and MOAs\n",
    "top_groups_approved1 = sorted_groups_approved1.head(3)\n",
    "top_groups_approved2 = sorted_groups_approved2.head(3)"
   ]
  },
  {
   "cell_type": "code",
   "execution_count": 34,
   "metadata": {},
   "outputs": [
    {
     "data": {
      "text/html": [
       "<div>\n",
       "<style scoped>\n",
       "    .dataframe tbody tr th:only-of-type {\n",
       "        vertical-align: middle;\n",
       "    }\n",
       "\n",
       "    .dataframe tbody tr th {\n",
       "        vertical-align: top;\n",
       "    }\n",
       "\n",
       "    .dataframe thead th {\n",
       "        text-align: right;\n",
       "    }\n",
       "</style>\n",
       "<table border=\"1\" class=\"dataframe\">\n",
       "  <thead>\n",
       "    <tr style=\"text-align: right;\">\n",
       "      <th></th>\n",
       "      <th>Biochemical_class</th>\n",
       "      <th>count</th>\n",
       "    </tr>\n",
       "  </thead>\n",
       "  <tbody>\n",
       "    <tr>\n",
       "      <th>0</th>\n",
       "      <td>ABC transporter</td>\n",
       "      <td>22</td>\n",
       "    </tr>\n",
       "    <tr>\n",
       "      <th>1</th>\n",
       "      <td>ATP-hydrolyzing DNA topoisomerase</td>\n",
       "      <td>6</td>\n",
       "    </tr>\n",
       "    <tr>\n",
       "      <th>2</th>\n",
       "      <td>Acid anhydride hydrolase</td>\n",
       "      <td>1</td>\n",
       "    </tr>\n",
       "    <tr>\n",
       "      <th>3</th>\n",
       "      <td>Acid anhydrides hydrolase</td>\n",
       "      <td>9</td>\n",
       "    </tr>\n",
       "    <tr>\n",
       "      <th>4</th>\n",
       "      <td>Acyltransferase</td>\n",
       "      <td>10</td>\n",
       "    </tr>\n",
       "    <tr>\n",
       "      <th>...</th>\n",
       "      <td>...</td>\n",
       "      <td>...</td>\n",
       "    </tr>\n",
       "    <tr>\n",
       "      <th>113</th>\n",
       "      <td>Transient receptor potential catioin channel</td>\n",
       "      <td>16</td>\n",
       "    </tr>\n",
       "    <tr>\n",
       "      <th>114</th>\n",
       "      <td>Type I cytokine receptor family</td>\n",
       "      <td>5</td>\n",
       "    </tr>\n",
       "    <tr>\n",
       "      <th>115</th>\n",
       "      <td>Type-B carboxylesterase/lipase</td>\n",
       "      <td>3</td>\n",
       "    </tr>\n",
       "    <tr>\n",
       "      <th>116</th>\n",
       "      <td>Voltage-gated ion channel</td>\n",
       "      <td>52</td>\n",
       "    </tr>\n",
       "    <tr>\n",
       "      <th>117</th>\n",
       "      <td>mRNA target</td>\n",
       "      <td>21</td>\n",
       "    </tr>\n",
       "  </tbody>\n",
       "</table>\n",
       "<p>118 rows × 2 columns</p>\n",
       "</div>"
      ],
      "text/plain": [
       "                                Biochemical_class  count\n",
       "0                                 ABC transporter     22\n",
       "1               ATP-hydrolyzing DNA topoisomerase      6\n",
       "2                        Acid anhydride hydrolase      1\n",
       "3                       Acid anhydrides hydrolase      9\n",
       "4                                 Acyltransferase     10\n",
       "..                                            ...    ...\n",
       "113  Transient receptor potential catioin channel     16\n",
       "114               Type I cytokine receptor family      5\n",
       "115                Type-B carboxylesterase/lipase      3\n",
       "116                     Voltage-gated ion channel     52\n",
       "117                                   mRNA target     21\n",
       "\n",
       "[118 rows x 2 columns]"
      ]
     },
     "execution_count": 34,
     "metadata": {},
     "output_type": "execute_result"
    }
   ],
   "source": [
    "grouped_approved1"
   ]
  },
  {
   "cell_type": "code",
   "execution_count": 39,
   "metadata": {},
   "outputs": [
    {
     "data": {
      "image/png": "[encoded data removed]",
      "text/plain": [
       "<Figure size 640x480 with 1 Axes>"
      ]
     },
     "metadata": {},
     "output_type": "display_data"
    }
   ],
   "source": [
    "sns.set_style('whitegrid')\n",
    "sns.barplot(data=top_groups_approved1, x='Biochemical_class', y='count', palette='Set2')\n",
    "plt.title('Top 3 bioclasses with the most approved targets')\n",
    "plt.xlabel('Biochemical class', fontsize= 12)\n",
    "plt.ylabel('Count of approved targets', fontsize= 12)\n",
    "plt.show()"
   ]
  },
  {
   "cell_type": "code",
   "execution_count": 66,
   "metadata": {},
   "outputs": [
    {
     "data": {
      "image/png": "[encoded data removed]",
      "text/plain": [
       "<Figure size 640x480 with 1 Axes>"
      ]
     },
     "metadata": {},
     "output_type": "display_data"
    }
   ],
   "source": [
    "sns.set_style('whitegrid')\n",
    "sns.barplot(data=top_groups_approved2, x='Mode_of_action', y='count', palette='Set2')\n",
    "plt.title('Top 3 MOAs with the most approved targets')\n",
    "plt.xlabel('MOA', fontsize= 12)\n",
    "plt.ylabel('Count of approved targets', fontsize= 12)\n",
    "plt.show()"
   ]
  },
  {
   "cell_type": "code",
   "execution_count": null,
   "metadata": {},
   "outputs": [],
   "source": []
  }
 ],
 "metadata": {
  "kernelspec": {
   "display_name": "base",
   "language": "python",
   "name": "python3"
  },
  "language_info": {
   "codemirror_mode": {
    "name": "ipython",
    "version": 3
   },
   "file_extension": ".py",
   "mimetype": "text/x-python",
   "name": "python",
   "nbconvert_exporter": "python",
   "pygments_lexer": "ipython3",
   "version": "3.9.13"
  },
  "orig_nbformat": 4
 },
 "nbformat": 4,
 "nbformat_minor": 2
}
