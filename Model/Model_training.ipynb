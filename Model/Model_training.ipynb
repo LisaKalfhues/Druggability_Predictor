{
 "cells": [
  {
   "attachments": {},
   "cell_type": "markdown",
   "metadata": {},
   "source": [
    "# Train the model with complete dataset"
   ]
  },
  {
   "attachments": {},
   "cell_type": "markdown",
   "metadata": {},
   "source": [
    "## Train ML model"
   ]
  },
  {
   "cell_type": "code",
   "execution_count": 25,
   "metadata": {},
   "outputs": [],
   "source": [
    "# import libraries\n",
    "import numpy as np\n",
    "import pandas as pd\n",
    "\n",
    "from sklearn.pipeline import make_pipeline\n",
    "from sklearn.preprocessing import OneHotEncoder\n",
    "from sklearn.compose import ColumnTransformer\n",
    "from sklearn.linear_model import LogisticRegression\n",
    "from sklearn.ensemble import RandomForestClassifier \n",
    "from sklearn.ensemble import VotingClassifier\n",
    "from imblearn.pipeline import Pipeline\n",
    "from imblearn.over_sampling import SMOTENC\n"
   ]
  },
  {
   "cell_type": "code",
   "execution_count": 26,
   "metadata": {},
   "outputs": [],
   "source": [
    "# import data\n",
    "df_proteins = pd.read_csv('../merged_data/df_proteintargets_targettype_appr_fail.csv', sep= ',')"
   ]
  },
  {
   "cell_type": "code",
   "execution_count": 29,
   "metadata": {},
   "outputs": [],
   "source": [
    "# define X and y\n",
    "X = df_proteins.drop('Outcome', axis = 1)\n",
    "y = df_proteins['Outcome']"
   ]
  },
  {
   "cell_type": "code",
   "execution_count": 31,
   "metadata": {},
   "outputs": [],
   "source": [
    "# model parameters:\n",
    "categorical_features = ['KEGG_pathway', 'Biochemical_class', 'Enzyme_class', 'PDB_structure', 'Mode_of_action']\n",
    "categorical_transformer = OneHotEncoder(sparse=False,handle_unknown='ignore')\n",
    "\n",
    "preprocessor = ColumnTransformer(\n",
    "    transformers=[\n",
    "        ('OHE', categorical_transformer, categorical_features)\n",
    "    ]\n",
    ")\n",
    "\n",
    "models = [\n",
    "          ('logreg', LogisticRegression()),\n",
    "          ('forest', RandomForestClassifier(n_estimators=120))\n",
    "]\n",
    "m = VotingClassifier(models)\n",
    "\n",
    "pipeline = Pipeline(\n",
    "    [\n",
    "        (\"preprocessor\", preprocessor),\n",
    "        ('smote', SMOTENC(random_state=11, categorical_features=[0,1,2,3,4,])),\n",
    "        ('models', m)\n",
    "    ]\n",
    ")"
   ]
  },
  {
   "cell_type": "code",
   "execution_count": 32,
   "metadata": {},
   "outputs": [
    {
     "data": {
      "text/html": [
       "<style>#sk-d88915e0-e0eb-4730-b56d-e7455c592440 {color: black;background-color: white;}#sk-d88915e0-e0eb-4730-b56d-e7455c592440 pre{padding: 0;}#sk-d88915e0-e0eb-4730-b56d-e7455c592440 div.sk-toggleable {background-color: white;}#sk-d88915e0-e0eb-4730-b56d-e7455c592440 label.sk-toggleable__label {cursor: pointer;display: block;width: 100%;margin-bottom: 0;padding: 0.3em;box-sizing: border-box;text-align: center;}#sk-d88915e0-e0eb-4730-b56d-e7455c592440 label.sk-toggleable__label-arrow:before {content: \"▸\";float: left;margin-right: 0.25em;color: #696969;}#sk-d88915e0-e0eb-4730-b56d-e7455c592440 label.sk-toggleable__label-arrow:hover:before {color: black;}#sk-d88915e0-e0eb-4730-b56d-e7455c592440 div.sk-estimator:hover label.sk-toggleable__label-arrow:before {color: black;}#sk-d88915e0-e0eb-4730-b56d-e7455c592440 div.sk-toggleable__content {max-height: 0;max-width: 0;overflow: hidden;text-align: left;background-color: #f0f8ff;}#sk-d88915e0-e0eb-4730-b56d-e7455c592440 div.sk-toggleable__content pre {margin: 0.2em;color: black;border-radius: 0.25em;background-color: #f0f8ff;}#sk-d88915e0-e0eb-4730-b56d-e7455c592440 input.sk-toggleable__control:checked~div.sk-toggleable__content {max-height: 200px;max-width: 100%;overflow: auto;}#sk-d88915e0-e0eb-4730-b56d-e7455c592440 input.sk-toggleable__control:checked~label.sk-toggleable__label-arrow:before {content: \"▾\";}#sk-d88915e0-e0eb-4730-b56d-e7455c592440 div.sk-estimator input.sk-toggleable__control:checked~label.sk-toggleable__label {background-color: #d4ebff;}#sk-d88915e0-e0eb-4730-b56d-e7455c592440 div.sk-label input.sk-toggleable__control:checked~label.sk-toggleable__label {background-color: #d4ebff;}#sk-d88915e0-e0eb-4730-b56d-e7455c592440 input.sk-hidden--visually {border: 0;clip: rect(1px 1px 1px 1px);clip: rect(1px, 1px, 1px, 1px);height: 1px;margin: -1px;overflow: hidden;padding: 0;position: absolute;width: 1px;}#sk-d88915e0-e0eb-4730-b56d-e7455c592440 div.sk-estimator {font-family: monospace;background-color: #f0f8ff;border: 1px dotted black;border-radius: 0.25em;box-sizing: border-box;margin-bottom: 0.5em;}#sk-d88915e0-e0eb-4730-b56d-e7455c592440 div.sk-estimator:hover {background-color: #d4ebff;}#sk-d88915e0-e0eb-4730-b56d-e7455c592440 div.sk-parallel-item::after {content: \"\";width: 100%;border-bottom: 1px solid gray;flex-grow: 1;}#sk-d88915e0-e0eb-4730-b56d-e7455c592440 div.sk-label:hover label.sk-toggleable__label {background-color: #d4ebff;}#sk-d88915e0-e0eb-4730-b56d-e7455c592440 div.sk-serial::before {content: \"\";position: absolute;border-left: 1px solid gray;box-sizing: border-box;top: 2em;bottom: 0;left: 50%;}#sk-d88915e0-e0eb-4730-b56d-e7455c592440 div.sk-serial {display: flex;flex-direction: column;align-items: center;background-color: white;padding-right: 0.2em;padding-left: 0.2em;}#sk-d88915e0-e0eb-4730-b56d-e7455c592440 div.sk-item {z-index: 1;}#sk-d88915e0-e0eb-4730-b56d-e7455c592440 div.sk-parallel {display: flex;align-items: stretch;justify-content: center;background-color: white;}#sk-d88915e0-e0eb-4730-b56d-e7455c592440 div.sk-parallel::before {content: \"\";position: absolute;border-left: 1px solid gray;box-sizing: border-box;top: 2em;bottom: 0;left: 50%;}#sk-d88915e0-e0eb-4730-b56d-e7455c592440 div.sk-parallel-item {display: flex;flex-direction: column;position: relative;background-color: white;}#sk-d88915e0-e0eb-4730-b56d-e7455c592440 div.sk-parallel-item:first-child::after {align-self: flex-end;width: 50%;}#sk-d88915e0-e0eb-4730-b56d-e7455c592440 div.sk-parallel-item:last-child::after {align-self: flex-start;width: 50%;}#sk-d88915e0-e0eb-4730-b56d-e7455c592440 div.sk-parallel-item:only-child::after {width: 0;}#sk-d88915e0-e0eb-4730-b56d-e7455c592440 div.sk-dashed-wrapped {border: 1px dashed gray;margin: 0 0.4em 0.5em 0.4em;box-sizing: border-box;padding-bottom: 0.4em;background-color: white;position: relative;}#sk-d88915e0-e0eb-4730-b56d-e7455c592440 div.sk-label label {font-family: monospace;font-weight: bold;background-color: white;display: inline-block;line-height: 1.2em;}#sk-d88915e0-e0eb-4730-b56d-e7455c592440 div.sk-label-container {position: relative;z-index: 2;text-align: center;}#sk-d88915e0-e0eb-4730-b56d-e7455c592440 div.sk-container {/* jupyter's `normalize.less` sets `[hidden] { display: none; }` but bootstrap.min.css set `[hidden] { display: none !important; }` so we also need the `!important` here to be able to override the default hidden behavior on the sphinx rendered scikit-learn.org. See: https://github.com/scikit-learn/scikit-learn/issues/21755 */display: inline-block !important;position: relative;}#sk-d88915e0-e0eb-4730-b56d-e7455c592440 div.sk-text-repr-fallback {display: none;}</style><div id=\"sk-d88915e0-e0eb-4730-b56d-e7455c592440\" class=\"sk-top-container\"><div class=\"sk-text-repr-fallback\"><pre>Pipeline(steps=[(&#x27;preprocessor&#x27;,\n",
       "                 ColumnTransformer(transformers=[(&#x27;OHE&#x27;,\n",
       "                                                  OneHotEncoder(handle_unknown=&#x27;ignore&#x27;,\n",
       "                                                                sparse=False),\n",
       "                                                  [&#x27;KEGG_pathway&#x27;,\n",
       "                                                   &#x27;Biochemical_class&#x27;,\n",
       "                                                   &#x27;Enzyme_class&#x27;,\n",
       "                                                   &#x27;PDB_structure&#x27;,\n",
       "                                                   &#x27;Mode_of_action&#x27;])])),\n",
       "                (&#x27;smote&#x27;,\n",
       "                 SMOTENC(categorical_features=[0, 1, 2, 3, 4],\n",
       "                         random_state=11)),\n",
       "                (&#x27;models&#x27;,\n",
       "                 VotingClassifier(estimators=[(&#x27;logreg&#x27;, LogisticRegression()),\n",
       "                                              (&#x27;forest&#x27;,\n",
       "                                               RandomForestClassifier(n_estimators=120))]))])</pre><b>Please rerun this cell to show the HTML repr or trust the notebook.</b></div><div class=\"sk-container\" hidden><div class=\"sk-item sk-dashed-wrapped\"><div class=\"sk-label-container\"><div class=\"sk-label sk-toggleable\"><input class=\"sk-toggleable__control sk-hidden--visually\" id=\"b82bc664-cdc3-4f5c-91cb-95ef2fcbb013\" type=\"checkbox\" ><label for=\"b82bc664-cdc3-4f5c-91cb-95ef2fcbb013\" class=\"sk-toggleable__label sk-toggleable__label-arrow\">Pipeline</label><div class=\"sk-toggleable__content\"><pre>Pipeline(steps=[(&#x27;preprocessor&#x27;,\n",
       "                 ColumnTransformer(transformers=[(&#x27;OHE&#x27;,\n",
       "                                                  OneHotEncoder(handle_unknown=&#x27;ignore&#x27;,\n",
       "                                                                sparse=False),\n",
       "                                                  [&#x27;KEGG_pathway&#x27;,\n",
       "                                                   &#x27;Biochemical_class&#x27;,\n",
       "                                                   &#x27;Enzyme_class&#x27;,\n",
       "                                                   &#x27;PDB_structure&#x27;,\n",
       "                                                   &#x27;Mode_of_action&#x27;])])),\n",
       "                (&#x27;smote&#x27;,\n",
       "                 SMOTENC(categorical_features=[0, 1, 2, 3, 4],\n",
       "                         random_state=11)),\n",
       "                (&#x27;models&#x27;,\n",
       "                 VotingClassifier(estimators=[(&#x27;logreg&#x27;, LogisticRegression()),\n",
       "                                              (&#x27;forest&#x27;,\n",
       "                                               RandomForestClassifier(n_estimators=120))]))])</pre></div></div></div><div class=\"sk-serial\"><div class=\"sk-item sk-dashed-wrapped\"><div class=\"sk-label-container\"><div class=\"sk-label sk-toggleable\"><input class=\"sk-toggleable__control sk-hidden--visually\" id=\"b9d9ea7a-a388-4534-883d-561acccafb99\" type=\"checkbox\" ><label for=\"b9d9ea7a-a388-4534-883d-561acccafb99\" class=\"sk-toggleable__label sk-toggleable__label-arrow\">preprocessor: ColumnTransformer</label><div class=\"sk-toggleable__content\"><pre>ColumnTransformer(transformers=[(&#x27;OHE&#x27;,\n",
       "                                 OneHotEncoder(handle_unknown=&#x27;ignore&#x27;,\n",
       "                                               sparse=False),\n",
       "                                 [&#x27;KEGG_pathway&#x27;, &#x27;Biochemical_class&#x27;,\n",
       "                                  &#x27;Enzyme_class&#x27;, &#x27;PDB_structure&#x27;,\n",
       "                                  &#x27;Mode_of_action&#x27;])])</pre></div></div></div><div class=\"sk-parallel\"><div class=\"sk-parallel-item\"><div class=\"sk-item\"><div class=\"sk-label-container\"><div class=\"sk-label sk-toggleable\"><input class=\"sk-toggleable__control sk-hidden--visually\" id=\"4710f602-df7c-437f-97de-157d9b7cf645\" type=\"checkbox\" ><label for=\"4710f602-df7c-437f-97de-157d9b7cf645\" class=\"sk-toggleable__label sk-toggleable__label-arrow\">OHE</label><div class=\"sk-toggleable__content\"><pre>[&#x27;KEGG_pathway&#x27;, &#x27;Biochemical_class&#x27;, &#x27;Enzyme_class&#x27;, &#x27;PDB_structure&#x27;, &#x27;Mode_of_action&#x27;]</pre></div></div></div><div class=\"sk-serial\"><div class=\"sk-item\"><div class=\"sk-estimator sk-toggleable\"><input class=\"sk-toggleable__control sk-hidden--visually\" id=\"29f988e0-1702-4f25-afd5-83bc28119e97\" type=\"checkbox\" ><label for=\"29f988e0-1702-4f25-afd5-83bc28119e97\" class=\"sk-toggleable__label sk-toggleable__label-arrow\">OneHotEncoder</label><div class=\"sk-toggleable__content\"><pre>OneHotEncoder(handle_unknown=&#x27;ignore&#x27;, sparse=False)</pre></div></div></div></div></div></div></div></div><div class=\"sk-item\"><div class=\"sk-estimator sk-toggleable\"><input class=\"sk-toggleable__control sk-hidden--visually\" id=\"fef6a4e9-171e-4ff8-b96a-dc36fa86af01\" type=\"checkbox\" ><label for=\"fef6a4e9-171e-4ff8-b96a-dc36fa86af01\" class=\"sk-toggleable__label sk-toggleable__label-arrow\">SMOTENC</label><div class=\"sk-toggleable__content\"><pre>SMOTENC(categorical_features=[0, 1, 2, 3, 4], random_state=11)</pre></div></div></div><div class=\"sk-item sk-dashed-wrapped\"><div class=\"sk-label-container\"><div class=\"sk-label sk-toggleable\"><input class=\"sk-toggleable__control sk-hidden--visually\" id=\"fbeb200b-f2b3-4029-bc19-5f1398bb320d\" type=\"checkbox\" ><label for=\"fbeb200b-f2b3-4029-bc19-5f1398bb320d\" class=\"sk-toggleable__label sk-toggleable__label-arrow\">models: VotingClassifier</label><div class=\"sk-toggleable__content\"><pre>VotingClassifier(estimators=[(&#x27;logreg&#x27;, LogisticRegression()),\n",
       "                             (&#x27;forest&#x27;,\n",
       "                              RandomForestClassifier(n_estimators=120))])</pre></div></div></div><div class=\"sk-parallel\"><div class=\"sk-parallel-item\"><div class=\"sk-item\"><div class=\"sk-label-container\"><div class=\"sk-label sk-toggleable\"><label>logreg</label></div></div><div class=\"sk-serial\"><div class=\"sk-item\"><div class=\"sk-estimator sk-toggleable\"><input class=\"sk-toggleable__control sk-hidden--visually\" id=\"7ae15121-e219-443f-8c97-21ca3fe941f1\" type=\"checkbox\" ><label for=\"7ae15121-e219-443f-8c97-21ca3fe941f1\" class=\"sk-toggleable__label sk-toggleable__label-arrow\">LogisticRegression</label><div class=\"sk-toggleable__content\"><pre>LogisticRegression()</pre></div></div></div></div></div></div><div class=\"sk-parallel-item\"><div class=\"sk-item\"><div class=\"sk-label-container\"><div class=\"sk-label sk-toggleable\"><label>forest</label></div></div><div class=\"sk-serial\"><div class=\"sk-item\"><div class=\"sk-estimator sk-toggleable\"><input class=\"sk-toggleable__control sk-hidden--visually\" id=\"84774b6a-a7ff-44fd-881e-37e4db37bbc3\" type=\"checkbox\" ><label for=\"84774b6a-a7ff-44fd-881e-37e4db37bbc3\" class=\"sk-toggleable__label sk-toggleable__label-arrow\">RandomForestClassifier</label><div class=\"sk-toggleable__content\"><pre>RandomForestClassifier(n_estimators=120)</pre></div></div></div></div></div></div></div></div></div></div></div></div>"
      ],
      "text/plain": [
       "Pipeline(steps=[('preprocessor',\n",
       "                 ColumnTransformer(transformers=[('OHE',\n",
       "                                                  OneHotEncoder(handle_unknown='ignore',\n",
       "                                                                sparse=False),\n",
       "                                                  ['KEGG_pathway',\n",
       "                                                   'Biochemical_class',\n",
       "                                                   'Enzyme_class',\n",
       "                                                   'PDB_structure',\n",
       "                                                   'Mode_of_action'])])),\n",
       "                ('smote',\n",
       "                 SMOTENC(categorical_features=[0, 1, 2, 3, 4],\n",
       "                         random_state=11)),\n",
       "                ('models',\n",
       "                 VotingClassifier(estimators=[('logreg', LogisticRegression()),\n",
       "                                              ('forest',\n",
       "                                               RandomForestClassifier(n_estimators=120))]))])"
      ]
     },
     "execution_count": 32,
     "metadata": {},
     "output_type": "execute_result"
    }
   ],
   "source": [
    "from sklearn import set_config\n",
    "set_config(display=\"diagram\")\n",
    "pipeline"
   ]
  },
  {
   "cell_type": "code",
   "execution_count": 37,
   "metadata": {},
   "outputs": [],
   "source": [
    "pipeline.fit_resample(X,y)"
   ]
  },
  {
   "cell_type": "code",
   "execution_count": 38,
   "metadata": {},
   "outputs": [],
   "source": [
    "model = pipeline.fit(X,y)"
   ]
  },
  {
   "cell_type": "code",
   "execution_count": null,
   "metadata": {},
   "outputs": [],
   "source": [
    "# save model as a pickl file\n",
    "import pickle\n",
    "\n",
    "with open(\"model_predicting_druggability.pkl\", \"wb\") as f:\n",
    "    pickle.dump(model, f)"
   ]
  },
  {
   "attachments": {},
   "cell_type": "markdown",
   "metadata": {},
   "source": [
    "### Predict PROTEIN1"
   ]
  },
  {
   "cell_type": "code",
   "execution_count": 42,
   "metadata": {},
   "outputs": [],
   "source": [
    "# import test protein1\n",
    "df_protein1 = pd.read_csv('df_protein1.csv', sep= ',')"
   ]
  },
  {
   "cell_type": "code",
   "execution_count": 46,
   "metadata": {},
   "outputs": [
    {
     "data": {
      "text/plain": [
       "array([0.])"
      ]
     },
     "execution_count": 46,
     "metadata": {},
     "output_type": "execute_result"
    }
   ],
   "source": [
    "pred1 = pipeline.predict(df_protein1)\n",
    "pred1"
   ]
  },
  {
   "attachments": {},
   "cell_type": "markdown",
   "metadata": {},
   "source": [
    "### Predict PROTEIN2"
   ]
  },
  {
   "cell_type": "code",
   "execution_count": 47,
   "metadata": {},
   "outputs": [],
   "source": [
    "# import test protein2\n",
    "df_protein2 = pd.read_csv('df_protein2.csv', sep= ',')"
   ]
  },
  {
   "cell_type": "code",
   "execution_count": 48,
   "metadata": {},
   "outputs": [
    {
     "data": {
      "text/plain": [
       "array([1.])"
      ]
     },
     "execution_count": 48,
     "metadata": {},
     "output_type": "execute_result"
    }
   ],
   "source": [
    "pred2 = pipeline.predict(df_protein2)\n",
    "pred2"
   ]
  },
  {
   "cell_type": "code",
   "execution_count": null,
   "metadata": {},
   "outputs": [],
   "source": []
  }
 ],
 "metadata": {
  "kernelspec": {
   "display_name": "base",
   "language": "python",
   "name": "python3"
  },
  "language_info": {
   "codemirror_mode": {
    "name": "ipython",
    "version": 3
   },
   "file_extension": ".py",
   "mimetype": "text/x-python",
   "name": "python",
   "nbconvert_exporter": "python",
   "pygments_lexer": "ipython3",
   "version": "3.9.13"
  },
  "orig_nbformat": 4
 },
 "nbformat": 4,
 "nbformat_minor": 2
}
