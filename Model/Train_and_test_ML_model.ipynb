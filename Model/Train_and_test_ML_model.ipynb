{
 "cells": [
  {
   "attachments": {},
   "cell_type": "markdown",
   "metadata": {},
   "source": [
    "## Train and test ML model with train-test-split"
   ]
  },
  {
   "cell_type": "code",
   "execution_count": 1,
   "metadata": {},
   "outputs": [],
   "source": [
    "# import libraries\n",
    "import numpy as np\n",
    "import pandas as pd\n",
    "from sklearn.model_selection import train_test_split\n",
    "from sklearn.pipeline import make_pipeline\n",
    "from sklearn.preprocessing import OneHotEncoder\n",
    "from sklearn.compose import ColumnTransformer\n",
    "from sklearn.linear_model import LogisticRegression\n",
    "from sklearn.ensemble import RandomForestClassifier \n",
    "from sklearn.ensemble import VotingClassifier\n",
    "from imblearn.pipeline import Pipeline\n",
    "from imblearn.over_sampling import SMOTE \n",
    "from sklearn.metrics import accuracy_score, precision_score, recall_score, f1_score, confusion_matrix, ConfusionMatrixDisplay\n"
   ]
  },
  {
   "cell_type": "code",
   "execution_count": 2,
   "metadata": {},
   "outputs": [],
   "source": [
    "# import data\n",
    "df = pd.read_csv('../Data/df_proteintargets_targettype_appr_fail.csv', sep= ',')"
   ]
  },
  {
   "cell_type": "code",
   "execution_count": 3,
   "metadata": {},
   "outputs": [
    {
     "data": {
      "text/plain": [
       "1.0    0.952059\n",
       "0.0    0.047941\n",
       "Name: Outcome, dtype: float64"
      ]
     },
     "execution_count": 3,
     "metadata": {},
     "output_type": "execute_result"
    }
   ],
   "source": [
    "df['Outcome'].value_counts(normalize=True)"
   ]
  },
  {
   "cell_type": "code",
   "execution_count": 4,
   "metadata": {},
   "outputs": [
    {
     "data": {
      "text/plain": [
       "((1773,), (1773, 5))"
      ]
     },
     "execution_count": 4,
     "metadata": {},
     "output_type": "execute_result"
    }
   ],
   "source": [
    "# Build a model\n",
    "# define X and y\n",
    "X = df.drop('Outcome', axis = 1)\n",
    "y = df['Outcome']\n",
    "y.shape, X.shape"
   ]
  },
  {
   "cell_type": "code",
   "execution_count": 5,
   "metadata": {},
   "outputs": [
    {
     "data": {
      "text/plain": [
       "((1418, 5), (355, 5), (1418,), (355,))"
      ]
     },
     "execution_count": 5,
     "metadata": {},
     "output_type": "execute_result"
    }
   ],
   "source": [
    " # Split data into train and test:\n",
    "X_train, X_test, y_train, y_test = train_test_split(X, y, test_size=0.2, random_state=42,stratify=y)\n",
    " #check the shape of the new created training and test data set\n",
    "X_train.shape, X_test.shape, y_train.shape, y_test.shape "
   ]
  },
  {
   "cell_type": "code",
   "execution_count": 14,
   "metadata": {},
   "outputs": [],
   "source": [
    "from imblearn.over_sampling import SMOTE\n",
    "from imblearn.pipeline import Pipeline\n",
    "\n",
    "categorical_features = ['KEGG_pathway', 'Biochemical_class', 'Enzyme_class', 'PDB_structure', 'Mode_of_action']\n",
    "categorical_transformer = OneHotEncoder(sparse=False,handle_unknown='ignore')\n",
    "\n",
    "preprocessor = ColumnTransformer(\n",
    "    transformers=[\n",
    "        ('OHE', categorical_transformer, categorical_features)\n",
    "    ]\n",
    ")\n",
    "\n",
    "models = [\n",
    "          ('logreg', LogisticRegression()),\n",
    "          ('forest', RandomForestClassifier(n_estimators=120))\n",
    "]\n",
    "m = VotingClassifier(models)\n",
    "\n",
    "pipeline = Pipeline(\n",
    "    [\n",
    "        (\"preprocessor\", preprocessor),\n",
    "        ('smote', SMOTE(random_state=11)),\n",
    "        ('models', m)\n",
    "    ]\n",
    ")"
   ]
  },
  {
   "cell_type": "code",
   "execution_count": 15,
   "metadata": {},
   "outputs": [
    {
     "data": {
      "text/html": [
       "<style>#sk-0fd5785e-a0fe-4b31-a8a7-980ddd81dd65 {color: black;background-color: white;}#sk-0fd5785e-a0fe-4b31-a8a7-980ddd81dd65 pre{padding: 0;}#sk-0fd5785e-a0fe-4b31-a8a7-980ddd81dd65 div.sk-toggleable {background-color: white;}#sk-0fd5785e-a0fe-4b31-a8a7-980ddd81dd65 label.sk-toggleable__label {cursor: pointer;display: block;width: 100%;margin-bottom: 0;padding: 0.3em;box-sizing: border-box;text-align: center;}#sk-0fd5785e-a0fe-4b31-a8a7-980ddd81dd65 label.sk-toggleable__label-arrow:before {content: \"▸\";float: left;margin-right: 0.25em;color: #696969;}#sk-0fd5785e-a0fe-4b31-a8a7-980ddd81dd65 label.sk-toggleable__label-arrow:hover:before {color: black;}#sk-0fd5785e-a0fe-4b31-a8a7-980ddd81dd65 div.sk-estimator:hover label.sk-toggleable__label-arrow:before {color: black;}#sk-0fd5785e-a0fe-4b31-a8a7-980ddd81dd65 div.sk-toggleable__content {max-height: 0;max-width: 0;overflow: hidden;text-align: left;background-color: #f0f8ff;}#sk-0fd5785e-a0fe-4b31-a8a7-980ddd81dd65 div.sk-toggleable__content pre {margin: 0.2em;color: black;border-radius: 0.25em;background-color: #f0f8ff;}#sk-0fd5785e-a0fe-4b31-a8a7-980ddd81dd65 input.sk-toggleable__control:checked~div.sk-toggleable__content {max-height: 200px;max-width: 100%;overflow: auto;}#sk-0fd5785e-a0fe-4b31-a8a7-980ddd81dd65 input.sk-toggleable__control:checked~label.sk-toggleable__label-arrow:before {content: \"▾\";}#sk-0fd5785e-a0fe-4b31-a8a7-980ddd81dd65 div.sk-estimator input.sk-toggleable__control:checked~label.sk-toggleable__label {background-color: #d4ebff;}#sk-0fd5785e-a0fe-4b31-a8a7-980ddd81dd65 div.sk-label input.sk-toggleable__control:checked~label.sk-toggleable__label {background-color: #d4ebff;}#sk-0fd5785e-a0fe-4b31-a8a7-980ddd81dd65 input.sk-hidden--visually {border: 0;clip: rect(1px 1px 1px 1px);clip: rect(1px, 1px, 1px, 1px);height: 1px;margin: -1px;overflow: hidden;padding: 0;position: absolute;width: 1px;}#sk-0fd5785e-a0fe-4b31-a8a7-980ddd81dd65 div.sk-estimator {font-family: monospace;background-color: #f0f8ff;border: 1px dotted black;border-radius: 0.25em;box-sizing: border-box;margin-bottom: 0.5em;}#sk-0fd5785e-a0fe-4b31-a8a7-980ddd81dd65 div.sk-estimator:hover {background-color: #d4ebff;}#sk-0fd5785e-a0fe-4b31-a8a7-980ddd81dd65 div.sk-parallel-item::after {content: \"\";width: 100%;border-bottom: 1px solid gray;flex-grow: 1;}#sk-0fd5785e-a0fe-4b31-a8a7-980ddd81dd65 div.sk-label:hover label.sk-toggleable__label {background-color: #d4ebff;}#sk-0fd5785e-a0fe-4b31-a8a7-980ddd81dd65 div.sk-serial::before {content: \"\";position: absolute;border-left: 1px solid gray;box-sizing: border-box;top: 2em;bottom: 0;left: 50%;}#sk-0fd5785e-a0fe-4b31-a8a7-980ddd81dd65 div.sk-serial {display: flex;flex-direction: column;align-items: center;background-color: white;padding-right: 0.2em;padding-left: 0.2em;}#sk-0fd5785e-a0fe-4b31-a8a7-980ddd81dd65 div.sk-item {z-index: 1;}#sk-0fd5785e-a0fe-4b31-a8a7-980ddd81dd65 div.sk-parallel {display: flex;align-items: stretch;justify-content: center;background-color: white;}#sk-0fd5785e-a0fe-4b31-a8a7-980ddd81dd65 div.sk-parallel::before {content: \"\";position: absolute;border-left: 1px solid gray;box-sizing: border-box;top: 2em;bottom: 0;left: 50%;}#sk-0fd5785e-a0fe-4b31-a8a7-980ddd81dd65 div.sk-parallel-item {display: flex;flex-direction: column;position: relative;background-color: white;}#sk-0fd5785e-a0fe-4b31-a8a7-980ddd81dd65 div.sk-parallel-item:first-child::after {align-self: flex-end;width: 50%;}#sk-0fd5785e-a0fe-4b31-a8a7-980ddd81dd65 div.sk-parallel-item:last-child::after {align-self: flex-start;width: 50%;}#sk-0fd5785e-a0fe-4b31-a8a7-980ddd81dd65 div.sk-parallel-item:only-child::after {width: 0;}#sk-0fd5785e-a0fe-4b31-a8a7-980ddd81dd65 div.sk-dashed-wrapped {border: 1px dashed gray;margin: 0 0.4em 0.5em 0.4em;box-sizing: border-box;padding-bottom: 0.4em;background-color: white;position: relative;}#sk-0fd5785e-a0fe-4b31-a8a7-980ddd81dd65 div.sk-label label {font-family: monospace;font-weight: bold;background-color: white;display: inline-block;line-height: 1.2em;}#sk-0fd5785e-a0fe-4b31-a8a7-980ddd81dd65 div.sk-label-container {position: relative;z-index: 2;text-align: center;}#sk-0fd5785e-a0fe-4b31-a8a7-980ddd81dd65 div.sk-container {/* jupyter's `normalize.less` sets `[hidden] { display: none; }` but bootstrap.min.css set `[hidden] { display: none !important; }` so we also need the `!important` here to be able to override the default hidden behavior on the sphinx rendered scikit-learn.org. See: https://github.com/scikit-learn/scikit-learn/issues/21755 */display: inline-block !important;position: relative;}#sk-0fd5785e-a0fe-4b31-a8a7-980ddd81dd65 div.sk-text-repr-fallback {display: none;}</style><div id=\"sk-0fd5785e-a0fe-4b31-a8a7-980ddd81dd65\" class=\"sk-top-container\"><div class=\"sk-text-repr-fallback\"><pre>Pipeline(steps=[(&#x27;preprocessor&#x27;,\n",
       "                 ColumnTransformer(transformers=[(&#x27;OHE&#x27;,\n",
       "                                                  OneHotEncoder(handle_unknown=&#x27;ignore&#x27;,\n",
       "                                                                sparse=False),\n",
       "                                                  [&#x27;KEGG_pathway&#x27;,\n",
       "                                                   &#x27;Biochemical_class&#x27;,\n",
       "                                                   &#x27;Enzyme_class&#x27;,\n",
       "                                                   &#x27;PDB_structure&#x27;,\n",
       "                                                   &#x27;Mode_of_action&#x27;])])),\n",
       "                (&#x27;smote&#x27;, SMOTE(random_state=11)),\n",
       "                (&#x27;models&#x27;,\n",
       "                 VotingClassifier(estimators=[(&#x27;logreg&#x27;, LogisticRegression()),\n",
       "                                              (&#x27;forest&#x27;,\n",
       "                                               RandomForestClassifier(n_estimators=120))]))])</pre><b>Please rerun this cell to show the HTML repr or trust the notebook.</b></div><div class=\"sk-container\" hidden><div class=\"sk-item sk-dashed-wrapped\"><div class=\"sk-label-container\"><div class=\"sk-label sk-toggleable\"><input class=\"sk-toggleable__control sk-hidden--visually\" id=\"535994c9-9dc2-4fdc-81b1-82df04896c41\" type=\"checkbox\" ><label for=\"535994c9-9dc2-4fdc-81b1-82df04896c41\" class=\"sk-toggleable__label sk-toggleable__label-arrow\">Pipeline</label><div class=\"sk-toggleable__content\"><pre>Pipeline(steps=[(&#x27;preprocessor&#x27;,\n",
       "                 ColumnTransformer(transformers=[(&#x27;OHE&#x27;,\n",
       "                                                  OneHotEncoder(handle_unknown=&#x27;ignore&#x27;,\n",
       "                                                                sparse=False),\n",
       "                                                  [&#x27;KEGG_pathway&#x27;,\n",
       "                                                   &#x27;Biochemical_class&#x27;,\n",
       "                                                   &#x27;Enzyme_class&#x27;,\n",
       "                                                   &#x27;PDB_structure&#x27;,\n",
       "                                                   &#x27;Mode_of_action&#x27;])])),\n",
       "                (&#x27;smote&#x27;, SMOTE(random_state=11)),\n",
       "                (&#x27;models&#x27;,\n",
       "                 VotingClassifier(estimators=[(&#x27;logreg&#x27;, LogisticRegression()),\n",
       "                                              (&#x27;forest&#x27;,\n",
       "                                               RandomForestClassifier(n_estimators=120))]))])</pre></div></div></div><div class=\"sk-serial\"><div class=\"sk-item sk-dashed-wrapped\"><div class=\"sk-label-container\"><div class=\"sk-label sk-toggleable\"><input class=\"sk-toggleable__control sk-hidden--visually\" id=\"cc0e2873-78a6-493e-ad4d-8e699db6e5a8\" type=\"checkbox\" ><label for=\"cc0e2873-78a6-493e-ad4d-8e699db6e5a8\" class=\"sk-toggleable__label sk-toggleable__label-arrow\">preprocessor: ColumnTransformer</label><div class=\"sk-toggleable__content\"><pre>ColumnTransformer(transformers=[(&#x27;OHE&#x27;,\n",
       "                                 OneHotEncoder(handle_unknown=&#x27;ignore&#x27;,\n",
       "                                               sparse=False),\n",
       "                                 [&#x27;KEGG_pathway&#x27;, &#x27;Biochemical_class&#x27;,\n",
       "                                  &#x27;Enzyme_class&#x27;, &#x27;PDB_structure&#x27;,\n",
       "                                  &#x27;Mode_of_action&#x27;])])</pre></div></div></div><div class=\"sk-parallel\"><div class=\"sk-parallel-item\"><div class=\"sk-item\"><div class=\"sk-label-container\"><div class=\"sk-label sk-toggleable\"><input class=\"sk-toggleable__control sk-hidden--visually\" id=\"b31cac83-9ac2-42b8-8bd6-1f39d209856a\" type=\"checkbox\" ><label for=\"b31cac83-9ac2-42b8-8bd6-1f39d209856a\" class=\"sk-toggleable__label sk-toggleable__label-arrow\">OHE</label><div class=\"sk-toggleable__content\"><pre>[&#x27;KEGG_pathway&#x27;, &#x27;Biochemical_class&#x27;, &#x27;Enzyme_class&#x27;, &#x27;PDB_structure&#x27;, &#x27;Mode_of_action&#x27;]</pre></div></div></div><div class=\"sk-serial\"><div class=\"sk-item\"><div class=\"sk-estimator sk-toggleable\"><input class=\"sk-toggleable__control sk-hidden--visually\" id=\"376b0d4a-62a9-4d05-a5df-c1f985fc3e41\" type=\"checkbox\" ><label for=\"376b0d4a-62a9-4d05-a5df-c1f985fc3e41\" class=\"sk-toggleable__label sk-toggleable__label-arrow\">OneHotEncoder</label><div class=\"sk-toggleable__content\"><pre>OneHotEncoder(handle_unknown=&#x27;ignore&#x27;, sparse=False)</pre></div></div></div></div></div></div></div></div><div class=\"sk-item\"><div class=\"sk-estimator sk-toggleable\"><input class=\"sk-toggleable__control sk-hidden--visually\" id=\"02f24f37-b029-4bc7-a410-ede0a470f6a7\" type=\"checkbox\" ><label for=\"02f24f37-b029-4bc7-a410-ede0a470f6a7\" class=\"sk-toggleable__label sk-toggleable__label-arrow\">SMOTE</label><div class=\"sk-toggleable__content\"><pre>SMOTE(random_state=11)</pre></div></div></div><div class=\"sk-item sk-dashed-wrapped\"><div class=\"sk-label-container\"><div class=\"sk-label sk-toggleable\"><input class=\"sk-toggleable__control sk-hidden--visually\" id=\"438ffb07-0af1-49b2-a152-99ebad622766\" type=\"checkbox\" ><label for=\"438ffb07-0af1-49b2-a152-99ebad622766\" class=\"sk-toggleable__label sk-toggleable__label-arrow\">models: VotingClassifier</label><div class=\"sk-toggleable__content\"><pre>VotingClassifier(estimators=[(&#x27;logreg&#x27;, LogisticRegression()),\n",
       "                             (&#x27;forest&#x27;,\n",
       "                              RandomForestClassifier(n_estimators=120))])</pre></div></div></div><div class=\"sk-parallel\"><div class=\"sk-parallel-item\"><div class=\"sk-item\"><div class=\"sk-label-container\"><div class=\"sk-label sk-toggleable\"><label>logreg</label></div></div><div class=\"sk-serial\"><div class=\"sk-item\"><div class=\"sk-estimator sk-toggleable\"><input class=\"sk-toggleable__control sk-hidden--visually\" id=\"95494559-fff2-4c55-a3e7-3540e568264a\" type=\"checkbox\" ><label for=\"95494559-fff2-4c55-a3e7-3540e568264a\" class=\"sk-toggleable__label sk-toggleable__label-arrow\">LogisticRegression</label><div class=\"sk-toggleable__content\"><pre>LogisticRegression()</pre></div></div></div></div></div></div><div class=\"sk-parallel-item\"><div class=\"sk-item\"><div class=\"sk-label-container\"><div class=\"sk-label sk-toggleable\"><label>forest</label></div></div><div class=\"sk-serial\"><div class=\"sk-item\"><div class=\"sk-estimator sk-toggleable\"><input class=\"sk-toggleable__control sk-hidden--visually\" id=\"c3f09c03-20ac-4378-85a9-ba802e683f83\" type=\"checkbox\" ><label for=\"c3f09c03-20ac-4378-85a9-ba802e683f83\" class=\"sk-toggleable__label sk-toggleable__label-arrow\">RandomForestClassifier</label><div class=\"sk-toggleable__content\"><pre>RandomForestClassifier(n_estimators=120)</pre></div></div></div></div></div></div></div></div></div></div></div></div>"
      ],
      "text/plain": [
       "Pipeline(steps=[('preprocessor',\n",
       "                 ColumnTransformer(transformers=[('OHE',\n",
       "                                                  OneHotEncoder(handle_unknown='ignore',\n",
       "                                                                sparse=False),\n",
       "                                                  ['KEGG_pathway',\n",
       "                                                   'Biochemical_class',\n",
       "                                                   'Enzyme_class',\n",
       "                                                   'PDB_structure',\n",
       "                                                   'Mode_of_action'])])),\n",
       "                ('smote', SMOTE(random_state=11)),\n",
       "                ('models',\n",
       "                 VotingClassifier(estimators=[('logreg', LogisticRegression()),\n",
       "                                              ('forest',\n",
       "                                               RandomForestClassifier(n_estimators=120))]))])"
      ]
     },
     "execution_count": 15,
     "metadata": {},
     "output_type": "execute_result"
    }
   ],
   "source": [
    "from sklearn import set_config\n",
    "set_config(display=\"diagram\")\n",
    "pipeline"
   ]
  },
  {
   "cell_type": "code",
   "execution_count": 16,
   "metadata": {},
   "outputs": [
    {
     "data": {
      "text/plain": [
       "(1418, 939)"
      ]
     },
     "execution_count": 16,
     "metadata": {},
     "output_type": "execute_result"
    }
   ],
   "source": [
    "preprocessor.fit_transform(X_train).shape"
   ]
  },
  {
   "cell_type": "code",
   "execution_count": 17,
   "metadata": {},
   "outputs": [],
   "source": [
    "pipeline.fit_resample(X_train,y_train)"
   ]
  },
  {
   "cell_type": "code",
   "execution_count": 18,
   "metadata": {},
   "outputs": [
    {
     "data": {
      "text/html": [
       "<style>#sk-885d3d0f-4d72-4a4c-8bd2-599d89c6aeee {color: black;background-color: white;}#sk-885d3d0f-4d72-4a4c-8bd2-599d89c6aeee pre{padding: 0;}#sk-885d3d0f-4d72-4a4c-8bd2-599d89c6aeee div.sk-toggleable {background-color: white;}#sk-885d3d0f-4d72-4a4c-8bd2-599d89c6aeee label.sk-toggleable__label {cursor: pointer;display: block;width: 100%;margin-bottom: 0;padding: 0.3em;box-sizing: border-box;text-align: center;}#sk-885d3d0f-4d72-4a4c-8bd2-599d89c6aeee label.sk-toggleable__label-arrow:before {content: \"▸\";float: left;margin-right: 0.25em;color: #696969;}#sk-885d3d0f-4d72-4a4c-8bd2-599d89c6aeee label.sk-toggleable__label-arrow:hover:before {color: black;}#sk-885d3d0f-4d72-4a4c-8bd2-599d89c6aeee div.sk-estimator:hover label.sk-toggleable__label-arrow:before {color: black;}#sk-885d3d0f-4d72-4a4c-8bd2-599d89c6aeee div.sk-toggleable__content {max-height: 0;max-width: 0;overflow: hidden;text-align: left;background-color: #f0f8ff;}#sk-885d3d0f-4d72-4a4c-8bd2-599d89c6aeee div.sk-toggleable__content pre {margin: 0.2em;color: black;border-radius: 0.25em;background-color: #f0f8ff;}#sk-885d3d0f-4d72-4a4c-8bd2-599d89c6aeee input.sk-toggleable__control:checked~div.sk-toggleable__content {max-height: 200px;max-width: 100%;overflow: auto;}#sk-885d3d0f-4d72-4a4c-8bd2-599d89c6aeee input.sk-toggleable__control:checked~label.sk-toggleable__label-arrow:before {content: \"▾\";}#sk-885d3d0f-4d72-4a4c-8bd2-599d89c6aeee div.sk-estimator input.sk-toggleable__control:checked~label.sk-toggleable__label {background-color: #d4ebff;}#sk-885d3d0f-4d72-4a4c-8bd2-599d89c6aeee div.sk-label input.sk-toggleable__control:checked~label.sk-toggleable__label {background-color: #d4ebff;}#sk-885d3d0f-4d72-4a4c-8bd2-599d89c6aeee input.sk-hidden--visually {border: 0;clip: rect(1px 1px 1px 1px);clip: rect(1px, 1px, 1px, 1px);height: 1px;margin: -1px;overflow: hidden;padding: 0;position: absolute;width: 1px;}#sk-885d3d0f-4d72-4a4c-8bd2-599d89c6aeee div.sk-estimator {font-family: monospace;background-color: #f0f8ff;border: 1px dotted black;border-radius: 0.25em;box-sizing: border-box;margin-bottom: 0.5em;}#sk-885d3d0f-4d72-4a4c-8bd2-599d89c6aeee div.sk-estimator:hover {background-color: #d4ebff;}#sk-885d3d0f-4d72-4a4c-8bd2-599d89c6aeee div.sk-parallel-item::after {content: \"\";width: 100%;border-bottom: 1px solid gray;flex-grow: 1;}#sk-885d3d0f-4d72-4a4c-8bd2-599d89c6aeee div.sk-label:hover label.sk-toggleable__label {background-color: #d4ebff;}#sk-885d3d0f-4d72-4a4c-8bd2-599d89c6aeee div.sk-serial::before {content: \"\";position: absolute;border-left: 1px solid gray;box-sizing: border-box;top: 2em;bottom: 0;left: 50%;}#sk-885d3d0f-4d72-4a4c-8bd2-599d89c6aeee div.sk-serial {display: flex;flex-direction: column;align-items: center;background-color: white;padding-right: 0.2em;padding-left: 0.2em;}#sk-885d3d0f-4d72-4a4c-8bd2-599d89c6aeee div.sk-item {z-index: 1;}#sk-885d3d0f-4d72-4a4c-8bd2-599d89c6aeee div.sk-parallel {display: flex;align-items: stretch;justify-content: center;background-color: white;}#sk-885d3d0f-4d72-4a4c-8bd2-599d89c6aeee div.sk-parallel::before {content: \"\";position: absolute;border-left: 1px solid gray;box-sizing: border-box;top: 2em;bottom: 0;left: 50%;}#sk-885d3d0f-4d72-4a4c-8bd2-599d89c6aeee div.sk-parallel-item {display: flex;flex-direction: column;position: relative;background-color: white;}#sk-885d3d0f-4d72-4a4c-8bd2-599d89c6aeee div.sk-parallel-item:first-child::after {align-self: flex-end;width: 50%;}#sk-885d3d0f-4d72-4a4c-8bd2-599d89c6aeee div.sk-parallel-item:last-child::after {align-self: flex-start;width: 50%;}#sk-885d3d0f-4d72-4a4c-8bd2-599d89c6aeee div.sk-parallel-item:only-child::after {width: 0;}#sk-885d3d0f-4d72-4a4c-8bd2-599d89c6aeee div.sk-dashed-wrapped {border: 1px dashed gray;margin: 0 0.4em 0.5em 0.4em;box-sizing: border-box;padding-bottom: 0.4em;background-color: white;position: relative;}#sk-885d3d0f-4d72-4a4c-8bd2-599d89c6aeee div.sk-label label {font-family: monospace;font-weight: bold;background-color: white;display: inline-block;line-height: 1.2em;}#sk-885d3d0f-4d72-4a4c-8bd2-599d89c6aeee div.sk-label-container {position: relative;z-index: 2;text-align: center;}#sk-885d3d0f-4d72-4a4c-8bd2-599d89c6aeee div.sk-container {/* jupyter's `normalize.less` sets `[hidden] { display: none; }` but bootstrap.min.css set `[hidden] { display: none !important; }` so we also need the `!important` here to be able to override the default hidden behavior on the sphinx rendered scikit-learn.org. See: https://github.com/scikit-learn/scikit-learn/issues/21755 */display: inline-block !important;position: relative;}#sk-885d3d0f-4d72-4a4c-8bd2-599d89c6aeee div.sk-text-repr-fallback {display: none;}</style><div id=\"sk-885d3d0f-4d72-4a4c-8bd2-599d89c6aeee\" class=\"sk-top-container\"><div class=\"sk-text-repr-fallback\"><pre>Pipeline(steps=[(&#x27;preprocessor&#x27;,\n",
       "                 ColumnTransformer(transformers=[(&#x27;OHE&#x27;,\n",
       "                                                  OneHotEncoder(handle_unknown=&#x27;ignore&#x27;,\n",
       "                                                                sparse=False),\n",
       "                                                  [&#x27;KEGG_pathway&#x27;,\n",
       "                                                   &#x27;Biochemical_class&#x27;,\n",
       "                                                   &#x27;Enzyme_class&#x27;,\n",
       "                                                   &#x27;PDB_structure&#x27;,\n",
       "                                                   &#x27;Mode_of_action&#x27;])])),\n",
       "                (&#x27;smote&#x27;, SMOTE(random_state=11)),\n",
       "                (&#x27;models&#x27;,\n",
       "                 VotingClassifier(estimators=[(&#x27;logreg&#x27;, LogisticRegression()),\n",
       "                                              (&#x27;forest&#x27;,\n",
       "                                               RandomForestClassifier(n_estimators=120))]))])</pre><b>Please rerun this cell to show the HTML repr or trust the notebook.</b></div><div class=\"sk-container\" hidden><div class=\"sk-item sk-dashed-wrapped\"><div class=\"sk-label-container\"><div class=\"sk-label sk-toggleable\"><input class=\"sk-toggleable__control sk-hidden--visually\" id=\"23555f99-165d-487e-81c1-804b13b51ee4\" type=\"checkbox\" ><label for=\"23555f99-165d-487e-81c1-804b13b51ee4\" class=\"sk-toggleable__label sk-toggleable__label-arrow\">Pipeline</label><div class=\"sk-toggleable__content\"><pre>Pipeline(steps=[(&#x27;preprocessor&#x27;,\n",
       "                 ColumnTransformer(transformers=[(&#x27;OHE&#x27;,\n",
       "                                                  OneHotEncoder(handle_unknown=&#x27;ignore&#x27;,\n",
       "                                                                sparse=False),\n",
       "                                                  [&#x27;KEGG_pathway&#x27;,\n",
       "                                                   &#x27;Biochemical_class&#x27;,\n",
       "                                                   &#x27;Enzyme_class&#x27;,\n",
       "                                                   &#x27;PDB_structure&#x27;,\n",
       "                                                   &#x27;Mode_of_action&#x27;])])),\n",
       "                (&#x27;smote&#x27;, SMOTE(random_state=11)),\n",
       "                (&#x27;models&#x27;,\n",
       "                 VotingClassifier(estimators=[(&#x27;logreg&#x27;, LogisticRegression()),\n",
       "                                              (&#x27;forest&#x27;,\n",
       "                                               RandomForestClassifier(n_estimators=120))]))])</pre></div></div></div><div class=\"sk-serial\"><div class=\"sk-item sk-dashed-wrapped\"><div class=\"sk-label-container\"><div class=\"sk-label sk-toggleable\"><input class=\"sk-toggleable__control sk-hidden--visually\" id=\"cea38bf1-5ef6-4df6-a212-6ee5dc148bfc\" type=\"checkbox\" ><label for=\"cea38bf1-5ef6-4df6-a212-6ee5dc148bfc\" class=\"sk-toggleable__label sk-toggleable__label-arrow\">preprocessor: ColumnTransformer</label><div class=\"sk-toggleable__content\"><pre>ColumnTransformer(transformers=[(&#x27;OHE&#x27;,\n",
       "                                 OneHotEncoder(handle_unknown=&#x27;ignore&#x27;,\n",
       "                                               sparse=False),\n",
       "                                 [&#x27;KEGG_pathway&#x27;, &#x27;Biochemical_class&#x27;,\n",
       "                                  &#x27;Enzyme_class&#x27;, &#x27;PDB_structure&#x27;,\n",
       "                                  &#x27;Mode_of_action&#x27;])])</pre></div></div></div><div class=\"sk-parallel\"><div class=\"sk-parallel-item\"><div class=\"sk-item\"><div class=\"sk-label-container\"><div class=\"sk-label sk-toggleable\"><input class=\"sk-toggleable__control sk-hidden--visually\" id=\"34e37473-9a13-4ea8-bb10-aa3bc0bbea8a\" type=\"checkbox\" ><label for=\"34e37473-9a13-4ea8-bb10-aa3bc0bbea8a\" class=\"sk-toggleable__label sk-toggleable__label-arrow\">OHE</label><div class=\"sk-toggleable__content\"><pre>[&#x27;KEGG_pathway&#x27;, &#x27;Biochemical_class&#x27;, &#x27;Enzyme_class&#x27;, &#x27;PDB_structure&#x27;, &#x27;Mode_of_action&#x27;]</pre></div></div></div><div class=\"sk-serial\"><div class=\"sk-item\"><div class=\"sk-estimator sk-toggleable\"><input class=\"sk-toggleable__control sk-hidden--visually\" id=\"73f1acd4-45aa-4c75-838e-24c34dc4ea21\" type=\"checkbox\" ><label for=\"73f1acd4-45aa-4c75-838e-24c34dc4ea21\" class=\"sk-toggleable__label sk-toggleable__label-arrow\">OneHotEncoder</label><div class=\"sk-toggleable__content\"><pre>OneHotEncoder(handle_unknown=&#x27;ignore&#x27;, sparse=False)</pre></div></div></div></div></div></div></div></div><div class=\"sk-item\"><div class=\"sk-estimator sk-toggleable\"><input class=\"sk-toggleable__control sk-hidden--visually\" id=\"5f509186-aebd-46c8-aae5-879e9ff77ca7\" type=\"checkbox\" ><label for=\"5f509186-aebd-46c8-aae5-879e9ff77ca7\" class=\"sk-toggleable__label sk-toggleable__label-arrow\">SMOTE</label><div class=\"sk-toggleable__content\"><pre>SMOTE(random_state=11)</pre></div></div></div><div class=\"sk-item sk-dashed-wrapped\"><div class=\"sk-label-container\"><div class=\"sk-label sk-toggleable\"><input class=\"sk-toggleable__control sk-hidden--visually\" id=\"13e0a74c-6252-4213-9657-3da9153c4320\" type=\"checkbox\" ><label for=\"13e0a74c-6252-4213-9657-3da9153c4320\" class=\"sk-toggleable__label sk-toggleable__label-arrow\">models: VotingClassifier</label><div class=\"sk-toggleable__content\"><pre>VotingClassifier(estimators=[(&#x27;logreg&#x27;, LogisticRegression()),\n",
       "                             (&#x27;forest&#x27;,\n",
       "                              RandomForestClassifier(n_estimators=120))])</pre></div></div></div><div class=\"sk-parallel\"><div class=\"sk-parallel-item\"><div class=\"sk-item\"><div class=\"sk-label-container\"><div class=\"sk-label sk-toggleable\"><label>logreg</label></div></div><div class=\"sk-serial\"><div class=\"sk-item\"><div class=\"sk-estimator sk-toggleable\"><input class=\"sk-toggleable__control sk-hidden--visually\" id=\"89f5a6e1-7f36-4d44-baa0-700abcdee511\" type=\"checkbox\" ><label for=\"89f5a6e1-7f36-4d44-baa0-700abcdee511\" class=\"sk-toggleable__label sk-toggleable__label-arrow\">LogisticRegression</label><div class=\"sk-toggleable__content\"><pre>LogisticRegression()</pre></div></div></div></div></div></div><div class=\"sk-parallel-item\"><div class=\"sk-item\"><div class=\"sk-label-container\"><div class=\"sk-label sk-toggleable\"><label>forest</label></div></div><div class=\"sk-serial\"><div class=\"sk-item\"><div class=\"sk-estimator sk-toggleable\"><input class=\"sk-toggleable__control sk-hidden--visually\" id=\"5f2e134e-4019-4668-b8e5-de5fc98216d8\" type=\"checkbox\" ><label for=\"5f2e134e-4019-4668-b8e5-de5fc98216d8\" class=\"sk-toggleable__label sk-toggleable__label-arrow\">RandomForestClassifier</label><div class=\"sk-toggleable__content\"><pre>RandomForestClassifier(n_estimators=120)</pre></div></div></div></div></div></div></div></div></div></div></div></div>"
      ],
      "text/plain": [
       "Pipeline(steps=[('preprocessor',\n",
       "                 ColumnTransformer(transformers=[('OHE',\n",
       "                                                  OneHotEncoder(handle_unknown='ignore',\n",
       "                                                                sparse=False),\n",
       "                                                  ['KEGG_pathway',\n",
       "                                                   'Biochemical_class',\n",
       "                                                   'Enzyme_class',\n",
       "                                                   'PDB_structure',\n",
       "                                                   'Mode_of_action'])])),\n",
       "                ('smote', SMOTE(random_state=11)),\n",
       "                ('models',\n",
       "                 VotingClassifier(estimators=[('logreg', LogisticRegression()),\n",
       "                                              ('forest',\n",
       "                                               RandomForestClassifier(n_estimators=120))]))])"
      ]
     },
     "execution_count": 18,
     "metadata": {},
     "output_type": "execute_result"
    }
   ],
   "source": [
    "pipeline.fit(X_train, y_train)"
   ]
  },
  {
   "cell_type": "code",
   "execution_count": 19,
   "metadata": {},
   "outputs": [],
   "source": [
    "pred = pipeline.predict(X_test)"
   ]
  },
  {
   "cell_type": "code",
   "execution_count": 20,
   "metadata": {},
   "outputs": [],
   "source": [
    "def print_evaluations(y_test, pred, model_name):\n",
    "    print(f'Scores of the model {model_name}:')\n",
    "    print(f'The accuracy of the model is: {round(accuracy_score(y_test, pred), 3)}')\n",
    "    print(f'The precision of the model is: {round(precision_score(y_test, pred), 3)}')\n",
    "    print(f'The recall of the model is: {round(recall_score(y_test, pred), 3)}')\n",
    "    print(f'The f1-score of the model is: {round(f1_score(y_test, pred), 3)}')\n",
    "    \n",
    "    #print confusion matrixTP\n",
    "    cm = confusion_matrix(y_test, pred)    \n",
    "    disp = ConfusionMatrixDisplay(cm, display_labels= ['fail', 'success'])\n",
    "    disp.plot()"
   ]
  },
  {
   "cell_type": "code",
   "execution_count": 21,
   "metadata": {},
   "outputs": [
    {
     "name": "stdout",
     "output_type": "stream",
     "text": [
      "Scores of the model OHE, SMOTEN, LogReg & RandomForest:\n",
      "The accuracy of the model is: 0.915\n",
      "The precision of the model is: 0.978\n",
      "The recall of the model is: 0.932\n",
      "The f1-score of the model is: 0.955\n"
     ]
    },
    {
     "data": {
      "image/png": "[encoded data removed]",
      "text/plain": [
       "<Figure size 640x480 with 2 Axes>"
      ]
     },
     "metadata": {},
     "output_type": "display_data"
    }
   ],
   "source": [
    "print_evaluations(y_test, pred, \"OHE, SMOTEN, LogReg & RandomForest\")"
   ]
  },
  {
   "cell_type": "code",
   "execution_count": null,
   "metadata": {},
   "outputs": [],
   "source": []
  }
 ],
 "metadata": {
  "kernelspec": {
   "display_name": "base",
   "language": "python",
   "name": "python3"
  },
  "language_info": {
   "codemirror_mode": {
    "name": "ipython",
    "version": 3
   },
   "file_extension": ".py",
   "mimetype": "text/x-python",
   "name": "python",
   "nbconvert_exporter": "python",
   "pygments_lexer": "ipython3",
   "version": "3.9.13"
  },
  "orig_nbformat": 4
 },
 "nbformat": 4,
 "nbformat_minor": 2
}
